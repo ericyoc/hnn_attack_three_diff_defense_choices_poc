{
  "cells": [
    {
      "cell_type": "markdown",
      "metadata": {
        "id": "view-in-github",
        "colab_type": "text"
      },
      "source": [
        "<a href=\"https://colab.research.google.com/github/ericyoc/hnn_attack_three_diff_defense_choices_poc/blob/main/hnn_attack_three_diff_defense_choices.ipynb\" target=\"_parent\"><img src=\"https://colab.research.google.com/assets/colab-badge.svg\" alt=\"Open In Colab\"/></a>"
      ]
    },
    {
      "cell_type": "markdown",
      "id": "7b23530d-c160-4139-8b3e-52b9bf469164",
      "metadata": {
        "id": "7b23530d-c160-4139-8b3e-52b9bf469164"
      },
      "source": [
        "Classical-Quantum or Hybrid Nerual Network that combines Quantum Neural Network (QNN) and Convolutional Neural Network (CNN) Model Using either MNIST or EMNIST Datasets with Protection Using Adverarial Training Against Compounded Attacks"
      ]
    },
    {
      "cell_type": "markdown",
      "id": "QCsgCc7B6OTd",
      "metadata": {
        "id": "QCsgCc7B6OTd"
      },
      "source": [
        "Make sure to set runtime to GPU (e.g., Google Colab T4 GPU) instead of CPU"
      ]
    },
    {
      "cell_type": "markdown",
      "id": "OB7Knnyr6R4e",
      "metadata": {
        "id": "OB7Knnyr6R4e"
      },
      "source": [
        "Assumes that datasets are on Google Drive and that Google Drive will be mounted with default directory structure"
      ]
    },
    {
      "cell_type": "markdown",
      "id": "8352c686-f25b-4c25-9a0a-44bc7555c846",
      "metadata": {
        "id": "8352c686-f25b-4c25-9a0a-44bc7555c846"
      },
      "source": [
        "ATTENTION: MUST INSTALL THE MINIMUM PYTHON MODULE VERSIONS FOR PYTHON CODE TO WORK CORRECTLY"
      ]
    },
    {
      "cell_type": "markdown",
      "id": "955c572f-5f61-4d61-b126-8f2c3571d366",
      "metadata": {
        "id": "955c572f-5f61-4d61-b126-8f2c3571d366"
      },
      "source": [
        "Python version: 3.8.18\n",
        "torch: 2.2.1\n",
        "torchvision: 0.17.1\n",
        "torchattacks: 3.5.1\n",
        "numpy: 1.23.5\n",
        "tabulate: 0.9.0"
      ]
    },
    {
      "cell_type": "code",
      "execution_count": 1,
      "id": "e53e8627-4a37-4ed0-8c7c-4bc8cf4e54a6",
      "metadata": {
        "id": "e53e8627-4a37-4ed0-8c7c-4bc8cf4e54a6"
      },
      "outputs": [],
      "source": [
        "import warnings\n",
        "# Ignore all warnings\n",
        "warnings.filterwarnings(\"ignore\")"
      ]
    },
    {
      "cell_type": "code",
      "execution_count": 2,
      "id": "07ZDiyWILm2P",
      "metadata": {
        "id": "07ZDiyWILm2P"
      },
      "outputs": [],
      "source": [
        "#!pip install torchattacks\n",
        "import torchattacks"
      ]
    },
    {
      "cell_type": "code",
      "source": [
        "global defense_type\n",
        "defense_type = \"randomization\"  # Options: \"adversarial_training\", \"randomization\", \"input_transformation\"\n",
        "\n",
        "global randomization_defense\n",
        "randomization_defense = \"combined_randomization\"  # Options: \"random_resizing\", \"random_cropping\", \"random_rotation\", \"combined_randomization\"\n",
        "\n",
        "global input_transformation\n",
        "input_transformation = \"combined_input_transformation\"  # Options: \"image_quilting\", \"adversarial_logit_pairing\", \"differential_privacy\", \"combined_input_transformation\""
      ],
      "metadata": {
        "id": "3Ona9HaxRuGN"
      },
      "id": "3Ona9HaxRuGN",
      "execution_count": 3,
      "outputs": []
    },
    {
      "cell_type": "code",
      "execution_count": 4,
      "id": "ArbA2OMn0i6m",
      "metadata": {
        "id": "ArbA2OMn0i6m"
      },
      "outputs": [],
      "source": [
        "#Pick a compounded adversarial attack from the following: fgsm_cw_attack, fgsm_pgd_attack, cw_pgd_attack, pgd_bim_attack, fgsm_bim_attack, cw_bim_attack\n",
        "# fgsm_deepfool_attack, pgd_deepfool_attack, cw_deepfool_attack, bim_deepfool_attack\n",
        "global compounded_attack_name\n",
        "\n",
        "compounded_attack_name = \"cw_pgd_attack\""
      ]
    },
    {
      "cell_type": "code",
      "execution_count": 5,
      "id": "EwsUoqDp1dyj",
      "metadata": {
        "id": "EwsUoqDp1dyj"
      },
      "outputs": [],
      "source": [
        "# Set the dataset_name\n",
        "global dataset_name\n",
        "dataset_name = 'MNIST'  # 'MNIST' or 'EMNIST' or 'SVHN' or 'USPS' or 'Semeion'"
      ]
    },
    {
      "cell_type": "code",
      "execution_count": 6,
      "id": "fCVtnLGaMsZJ",
      "metadata": {
        "id": "fCVtnLGaMsZJ",
        "colab": {
          "base_uri": "https://localhost:8080/"
        },
        "outputId": "423ff195-e5ab-495c-9a4c-0da27699bf26"
      },
      "outputs": [
        {
          "output_type": "stream",
          "name": "stdout",
          "text": [
            "Drive already mounted at /content/drive; to attempt to forcibly remount, call drive.mount(\"/content/drive\", force_remount=True).\n"
          ]
        }
      ],
      "source": [
        "from google.colab import drive\n",
        "\n",
        "# Mount Google Drive\n",
        "drive.mount('/content/drive')\n",
        "\n",
        "# Access the mounted drive\n",
        "drive_path = '/content/drive/My Drive/'\n"
      ]
    },
    {
      "cell_type": "code",
      "source": [
        "import torch\n",
        "global device\n",
        "device = 'cuda' if torch.cuda.is_available() else 'cpu'"
      ],
      "metadata": {
        "id": "jRsRjgCao2Xx"
      },
      "id": "jRsRjgCao2Xx",
      "execution_count": 7,
      "outputs": []
    },
    {
      "cell_type": "code",
      "execution_count": 8,
      "id": "ekL_geF31MQ0",
      "metadata": {
        "id": "ekL_geF31MQ0"
      },
      "outputs": [],
      "source": [
        "global num_epochs\n",
        "num_epochs = 10"
      ]
    },
    {
      "cell_type": "code",
      "source": [
        "#!pip install cirq\n",
        "import cirq\n",
        "#!pip install cirq-google\n",
        "#import cirq_google"
      ],
      "metadata": {
        "id": "jL3yJCGEglVh"
      },
      "id": "jL3yJCGEglVh",
      "execution_count": 9,
      "outputs": []
    },
    {
      "cell_type": "code",
      "execution_count": 10,
      "id": "1b7274e6-5dd7-48cb-b4bf-59d121320669",
      "metadata": {
        "id": "1b7274e6-5dd7-48cb-b4bf-59d121320669"
      },
      "outputs": [],
      "source": [
        "import sys\n",
        "import pkg_resources\n",
        "import importlib\n",
        "\n",
        "def get_package_versions(packages):\n",
        "    versions = {}\n",
        "    for package in packages:\n",
        "        try:\n",
        "            module = importlib.import_module(package)\n",
        "            if hasattr(module, '__version__'):\n",
        "                versions[package] = module.__version__\n",
        "            elif package == 'cirq':\n",
        "                versions[package] = cirq.__version__\n",
        "            else:\n",
        "                versions[package] = 'Not Found'\n",
        "        except ImportError:\n",
        "            versions[package] = 'Not Installed'\n",
        "    return versions\n",
        "\n",
        "# Specify the list of packages you want to check\n",
        "packages_to_check = [\"torch\", \"torchvision\", \"torchattacks\", \"torchvision\", \"numpy\", \"tabulate\", \"cirq\",\"cirq_google\"]\n",
        "\n",
        "# Call the function to get package versions\n",
        "versions = get_package_versions(packages_to_check)"
      ]
    },
    {
      "cell_type": "code",
      "execution_count": 11,
      "id": "88bb6b46-5683-474e-8162-03b61b15b364",
      "metadata": {
        "id": "88bb6b46-5683-474e-8162-03b61b15b364",
        "colab": {
          "base_uri": "https://localhost:8080/"
        },
        "outputId": "1f9fc8b7-18f9-4b6a-8112-a41b2a64d904"
      },
      "outputs": [
        {
          "output_type": "stream",
          "name": "stdout",
          "text": [
            "Python version: 3.10.12\n",
            "torch: 2.3.0+cu121\n",
            "torchvision: 0.18.0+cu121\n",
            "torchattacks: 3.5.1\n",
            "numpy: 1.25.2\n",
            "tabulate: 0.9.0\n",
            "cirq: 1.3.0\n",
            "cirq_google: 1.3.0\n"
          ]
        }
      ],
      "source": [
        "# Get the Python version\n",
        "python_version = sys.version.split()[0]\n",
        "\n",
        "# Call the function to get package versions\n",
        "versions = get_package_versions(packages_to_check)\n",
        "\n",
        "# Print the Python version\n",
        "print(f\"Python version: {python_version}\")\n",
        "\n",
        "# Print the package versions\n",
        "for package_name, version in versions.items():\n",
        "    print(f\"{package_name}: {version}\")"
      ]
    },
    {
      "cell_type": "code",
      "execution_count": 12,
      "id": "e4bc0e60-8668-4269-ad82-68be0fd52ef2",
      "metadata": {
        "id": "e4bc0e60-8668-4269-ad82-68be0fd52ef2"
      },
      "outputs": [],
      "source": [
        "import torch\n",
        "import torch.nn as nn\n",
        "import torch.nn.functional as F\n",
        "import torch.optim as optim\n",
        "from torchvision import datasets, transforms\n",
        "from torch.utils.data import DataLoader"
      ]
    },
    {
      "cell_type": "markdown",
      "source": [
        "theta is the rotation angle applied to even-indexed qubits (0, 2, 4, ...) using the cirq.ry(theta) gate.\n",
        "\n",
        "phi is the rotation angle applied to odd-indexed qubits (1, 3, 5, ...) using the cirq.ry(phi) gate.\n",
        "\n",
        "These rotation gates introduce controlled dynamics into the quantum circuit, and by varying the values of theta and phi, we can modify the evolution of the quantum state and potentially increase the expressive power of the circuit.\n",
        "\n",
        "During training, theta and phi are initialized as PyTorch tensors with requires_grad=True, allowing their values to be optimized via backpropagation"
      ],
      "metadata": {
        "id": "9LQuCTNr4tKs"
      },
      "id": "9LQuCTNr4tKs"
    },
    {
      "cell_type": "code",
      "source": [
        " # Initialize trainable parameters for the quantum circuit\n",
        "global theta\n",
        "global phi\n",
        "theta = torch.randn(1, requires_grad=True, device=device)\n",
        "phi = torch.randn(1, requires_grad=True, device=device)"
      ],
      "metadata": {
        "id": "6QUQXr7Pv0d1"
      },
      "id": "6QUQXr7Pv0d1",
      "execution_count": 13,
      "outputs": []
    },
    {
      "cell_type": "markdown",
      "source": [
        "The create_quantum_circuit function has two types of quantum gates being used: rotation gates and entangling gates.\n",
        "\n",
        "Rotation Gates:\n",
        "The code uses the cirq.ry gate, which represents a rotation around the Y-axis of the Bloch sphere.\n",
        "The cirq.ry(theta)(qubit) applies a rotation by an angle theta around the Y-axis to the specified qubit.\n",
        "In the code, there are two fixed rotation angles used: theta and phi.\n",
        "The rotation gates are applied to each qubit in an alternating manner based on the qubit index.\n",
        "If the qubit index is even (i % 2 == 0), a rotation by angle theta is applied using cirq.ry(theta)(qubit).\n",
        "If the qubit index is odd (i % 2 != 0), a rotation by angle phi is applied using cirq.ry(phi)(qubit).\n",
        "Rotation gates introduce single-qubit operations that can manipulate the state of individual qubits.\n",
        "\n",
        "Entangling Gates:\n",
        "The code uses the cirq.CNOT gate, which represents the controlled-NOT operation.\n",
        "The cirq.CNOT(control_qubit, target_qubit) applies a CNOT gate with control_qubit as the control and target_qubit as the target.\n",
        "In the code, CNOT gates are applied between pairs of adjacent qubits.\n",
        "The loop for i in range(num_qubits - 1) iterates over the qubits, skipping the last one.\n",
        "\n",
        "For each pair of adjacent qubits qubits[i] and qubits[i+1], a CNOT gate is appended to the circuit using circuit.append(cirq.CNOT(qubits[i], qubits[i+1])).\n",
        "CNOT gates create entanglement between qubits, allowing for multi-qubit operations and introducing correlations between the states of different qubits.\n",
        "The purpose of using these quantum gates in the circuit is to introduce quantum operations that can manipulate the state of the qubits. The rotation gates (cirq.ry) allow for single-qubit transformations, while the entangling gates (cirq.CNOT) create entanglement and enable multi-qubit operations.\n",
        "\n",
        "By applying a combination of rotation gates and entangling gates, the quantum circuit can perform quantum computations and potentially capture complex patterns and correlations in the data. The specific choice of gates and their arrangement depends on the desired quantum algorithm and the problem being solved."
      ],
      "metadata": {
        "id": "UFsZnMB9544K"
      },
      "id": "UFsZnMB9544K"
    },
    {
      "cell_type": "markdown",
      "source": [
        "Note: The code uses fixed rotation angles (theta and phi) for simplicity, but in practice, these angles can be parameterized and learnable during the training process of the hybrid model."
      ],
      "metadata": {
        "id": "Kxid6Ibu6Vhj"
      },
      "id": "Kxid6Ibu6Vhj"
    },
    {
      "cell_type": "code",
      "source": [
        "import math\n",
        "\n",
        "def create_quantum_circuit(theta, phi, output_dim):\n",
        "\n",
        "    # Check if output_dim is valid\n",
        "    if output_dim <= 0:\n",
        "        print(f\"Output dimension {output_dim} is invalid. Returning an empty circuit.\")\n",
        "        return cirq.Circuit()\n",
        "\n",
        "    # Number of qubits required for output_dim classes\n",
        "    num_qubits = int(math.ceil(math.log2(output_dim)))\n",
        "\n",
        "    # Create qubits\n",
        "    qubits = cirq.LineQubit.range(num_qubits)\n",
        "\n",
        "    # Initialize quantum circuit\n",
        "    circuit = cirq.Circuit()\n",
        "\n",
        "    # Apply fixed rotations to each qubit\n",
        "    theta = 0.5\n",
        "    phi = 0.3\n",
        "    for i, qubit in enumerate(qubits):\n",
        "        if i % 2 == 0:\n",
        "            circuit.append(cirq.ry(theta)(qubit))\n",
        "        else:\n",
        "            circuit.append(cirq.ry(phi)(qubit))\n",
        "\n",
        "    # Apply entangling gates (e.g., CNOT gates)\n",
        "    for i in range(num_qubits - 1):\n",
        "        circuit.append(cirq.CNOT(qubits[i], qubits[i+1]))\n",
        "\n",
        "    return circuit"
      ],
      "metadata": {
        "id": "SCSwkooGiP6O"
      },
      "id": "SCSwkooGiP6O",
      "execution_count": 14,
      "outputs": []
    },
    {
      "cell_type": "code",
      "source": [
        "def simulate_circuit(circuit, device):\n",
        "\n",
        "    if device == \"gpu\":\n",
        "        # Create a GPU-accelerated simulator\n",
        "        simulator = cirq.TensorflowSimulator(tensor_env=tf.distribute.cluster_resolver.TPUClusterResolver())\n",
        "    else:\n",
        "        # Create a CPU simulator\n",
        "        simulator = cirq.Simulator()\n",
        "\n",
        "    result = simulator.simulate(circuit)\n",
        "    final_state_vector = result.final_state_vector\n",
        "\n",
        "    return final_state_vector\n"
      ],
      "metadata": {
        "id": "3T2zciL4k1-j"
      },
      "id": "3T2zciL4k1-j",
      "execution_count": 15,
      "outputs": []
    },
    {
      "cell_type": "code",
      "source": [
        "# Create the quantum circuit\n",
        "quantum_circuit = create_quantum_circuit(theta, phi, 10)\n",
        "\n",
        "# Print the circuit\n",
        "print(quantum_circuit)"
      ],
      "metadata": {
        "id": "wFeF8--GiqGx",
        "colab": {
          "base_uri": "https://localhost:8080/"
        },
        "outputId": "da8b8134-da8c-4265-88ff-89dcbb0fb7ee"
      },
      "id": "wFeF8--GiqGx",
      "execution_count": 16,
      "outputs": [
        {
          "output_type": "stream",
          "name": "stdout",
          "text": [
            "0: ───Ry(0.159π)───@───────────\n",
            "                   │\n",
            "1: ───Ry(0.095π)───X───@───────\n",
            "                       │\n",
            "2: ───Ry(0.159π)───────X───@───\n",
            "                           │\n",
            "3: ───Ry(0.095π)───────────X───\n"
          ]
        }
      ]
    },
    {
      "cell_type": "code",
      "source": [
        "# Simulate the circuit on CPU\n",
        "cpu_state_vector = simulate_circuit(quantum_circuit, device=\"cpu\")\n",
        "print(\"CPU state vector:\", cpu_state_vector)"
      ],
      "metadata": {
        "id": "PhGdq1xglFqF",
        "colab": {
          "base_uri": "https://localhost:8080/"
        },
        "outputId": "0245c058-0680-4a75-8a13-76048ea34548"
      },
      "id": "PhGdq1xglFqF",
      "execution_count": 17,
      "outputs": [
        {
          "output_type": "stream",
          "name": "stdout",
          "text": [
            "CPU state vector: [0.9178265 +0.j 0.1387159 +0.j 0.03541998+0.j 0.23435956+0.j\n",
            " 0.03541998+0.j 0.00535321+0.j 0.02096485+0.j 0.13871588+0.j\n",
            " 0.03541998+0.j 0.00535321+0.j 0.0013669 +0.j 0.00904421+0.j\n",
            " 0.05984182+0.j 0.00904421+0.j 0.03541998+0.j 0.23435956+0.j]\n"
          ]
        }
      ]
    },
    {
      "cell_type": "code",
      "source": [
        "# Simulate the circuit on GPU (if available)\n",
        "try:\n",
        "    gpu_state_vector = simulate_circuit(quantum_circuit, device=\"gpu\")\n",
        "    print(\"GPU state vector:\", gpu_state_vector)\n",
        "except Exception as e:\n",
        "    print(\"GPU acceleration is not available on this system.\")\n",
        "    print(e)"
      ],
      "metadata": {
        "id": "-Y1BuLs9qrgS",
        "colab": {
          "base_uri": "https://localhost:8080/"
        },
        "outputId": "583264c7-9d3e-4fc6-b13e-2147cff87a55"
      },
      "id": "-Y1BuLs9qrgS",
      "execution_count": 18,
      "outputs": [
        {
          "output_type": "stream",
          "name": "stdout",
          "text": [
            "GPU acceleration is not available on this system.\n",
            "module 'cirq' has no attribute 'TensorflowSimulator'\n"
          ]
        }
      ]
    },
    {
      "cell_type": "code",
      "source": [
        "def hybrid_forward(input_data, classical_model, theta, phi, device, output_dim=10):\n",
        "    # Move input data to the specified device\n",
        "    input_data = input_data.to(device)\n",
        "\n",
        "    # Pass input through classical model\n",
        "    classical_output = classical_model(input_data)\n",
        "\n",
        "    # Construct quantum circuit based on classical output\n",
        "    quantum_circuit = create_quantum_circuit(theta, phi, output_dim)\n",
        "\n",
        "    # Simulate quantum circuit and extract results\n",
        "    simulator = cirq.Simulator()\n",
        "    result = simulator.simulate(quantum_circuit)\n",
        "    quantum_output_amplitudes = result.final_state_vector\n",
        "\n",
        "    # Get the batch size from the classical output\n",
        "    batch_size = classical_output.size(0)\n",
        "\n",
        "    # Reshape classical output to match quantum output dimensions\n",
        "    classical_output = classical_output.view(batch_size, -1)\n",
        "\n",
        "    # Compute the squared amplitudes (probabilities) of the quantum output\n",
        "    num_qubits = int(math.ceil(math.log2(output_dim)))\n",
        "    expected_quantum_output_size = 2 ** num_qubits\n",
        "    quantum_output_probabilities = np.square(np.abs(quantum_output_amplitudes))\n",
        "    quantum_output_probabilities = quantum_output_probabilities.reshape(expected_quantum_output_size)[:output_dim]\n",
        "\n",
        "    # Repeat the quantum output probabilities for each batch element\n",
        "    quantum_output_probabilities = np.tile(quantum_output_probabilities, (batch_size, 1))\n",
        "\n",
        "    # Convert quantum output probabilities to PyTorch tensor\n",
        "    quantum_output_probabilities = torch.from_numpy(quantum_output_probabilities).to(device)\n",
        "\n",
        "    # Combine classical and quantum outputs using a linear combination\n",
        "    alpha = 0.5  # Weight for the classical output\n",
        "    beta = 0.5  # Weight for the quantum output\n",
        "    hybrid_output = alpha * classical_output + beta * quantum_output_probabilities\n",
        "\n",
        "    # Apply log_softmax to the hybrid output\n",
        "    hybrid_output = F.log_softmax(hybrid_output, dim=1)\n",
        "\n",
        "    return hybrid_output"
      ],
      "metadata": {
        "id": "LqWsHyqciUiR"
      },
      "id": "LqWsHyqciUiR",
      "execution_count": 19,
      "outputs": []
    },
    {
      "cell_type": "markdown",
      "source": [
        "CNN architecture is designed to recognize digits 0 to 9 in the MNIST type dataset.\n",
        "\n",
        "Input:\n",
        "The MNIST dataset consists of grayscale images of handwritten digits.\n",
        "Each image has a size of 28x28 pixels.\n",
        "The input to the CNN is expected to be a tensor of shape (batch_size, 1, 28, 28), where 1 represents the single color channel (grayscale).\n",
        "\n",
        "Convolutional Layers:\n",
        "The first convolutional layer (self.conv1) has 1 input channel (grayscale) and 4 output feature maps. It uses a kernel size of 5x5 to learn local patterns in the input image.\n",
        "\n",
        "The second convolutional layer (self.conv2) has 4 input feature maps (output from conv1) and 10 output feature maps. It also uses a kernel size of 5x5 to learn higher-level features.\n",
        "\n",
        "Max pooling is applied after each convolutional layer to downsample the feature maps and reduce spatial dimensions.\n",
        "\n",
        "Fully Connected Layers:\n",
        "After the convolutional layers, the feature maps are flattened into a 1D vector.\n",
        "The flattened vector is passed through two fully connected layers (self.fc1 and self.fc2) to learn non-linear combinations of the extracted features.\n",
        "The output of the last fully connected layer (self.fc2) has 10 units, corresponding to the 10 digit classes (0 to 9).\n",
        "\n",
        "Output:\n",
        "The output of the CNN is a tensor of shape (batch_size, 10), representing the predicted probabilities for each digit class.\n",
        "The log_softmax activation function is applied to the output to obtain normalized log probabilities.\n",
        "\n",
        "During training, the CNN learns to map the input images to their corresponding digit labels by adjusting the weights of the convolutional and fully connected layers. The network learns to extract relevant features and patterns from the images that are discriminative for digit recognition.\n",
        "\n",
        "At inference time, given an input image of a handwritten digit, the trained CNN will predict the probability distribution over the 10 digit classes. The class with the highest probability is typically considered as the predicted digit."
      ],
      "metadata": {
        "id": "V5iYNLK44Tk7"
      },
      "id": "V5iYNLK44Tk7"
    },
    {
      "cell_type": "code",
      "execution_count": 20,
      "id": "b1e15569-ff43-4b6a-a18e-455147688571",
      "metadata": {
        "id": "b1e15569-ff43-4b6a-a18e-455147688571"
      },
      "outputs": [],
      "source": [
        "# Define model\n",
        "class CNN(nn.Module):\n",
        "    def __init__(self):\n",
        "        super().__init__()\n",
        "\n",
        "        # First convolutional layer\n",
        "        # Input: 1 channel (grayscale image)\n",
        "        # Output: 4 feature maps\n",
        "        # Kernel size: 5x5\n",
        "        self.conv1 = nn.Conv2d(1, 4, 5)\n",
        "\n",
        "        # Second convolutional layer\n",
        "        # Input: 4 feature maps\n",
        "        # Output: 10 feature maps\n",
        "        # Kernel size: 5x5\n",
        "        self.conv2 = nn.Conv2d(4, 10, 5)\n",
        "\n",
        "        # First fully connected layer\n",
        "        # Input: 160 features (flattened output from conv2)\n",
        "        # Output: 80 features\n",
        "        self.fc1 = nn.Linear(160, 80)\n",
        "\n",
        "        # Second fully connected layer\n",
        "        # Input: 80 features\n",
        "        # Output: 10 features (corresponding to 10 classes)\n",
        "        self.fc2 = nn.Linear(80, 10)\n",
        "\n",
        "    def forward(self, x):\n",
        "        # Apply first convolutional layer and ReLU activation\n",
        "        x = F.relu(self.conv1(x))\n",
        "\n",
        "        # Apply max pooling with kernel size 2x2\n",
        "        x = F.max_pool2d(x, 2)\n",
        "\n",
        "        # Apply second convolutional layer and ReLU activation\n",
        "        x = F.relu(self.conv2(x))\n",
        "\n",
        "        # Apply max pooling with kernel size 2x2\n",
        "        x = F.max_pool2d(x, 2)\n",
        "\n",
        "        # Flatten the output from the convolutional layers\n",
        "        x = x.view(-1, 160)\n",
        "\n",
        "        # Apply first fully connected layer and ReLU activation\n",
        "        x = F.relu(self.fc1(x))\n",
        "\n",
        "        # Apply second fully connected layer\n",
        "        x = self.fc2(x)\n",
        "\n",
        "        # Apply log softmax activation to get class probabilities\n",
        "        return F.log_softmax(x, dim=1)"
      ]
    },
    {
      "cell_type": "code",
      "execution_count": 21,
      "id": "6c2d9762-e9f9-4b70-9888-983828929995",
      "metadata": {
        "id": "6c2d9762-e9f9-4b70-9888-983828929995",
        "colab": {
          "base_uri": "https://localhost:8080/"
        },
        "outputId": "2aba01a8-5eee-4cd9-ce8c-da4eaaf45557"
      },
      "outputs": [
        {
          "output_type": "stream",
          "name": "stdout",
          "text": [
            "Model Architecture:\n",
            "CNN(\n",
            "  (conv1): Conv2d(1, 4, kernel_size=(5, 5), stride=(1, 1))\n",
            "  (conv2): Conv2d(4, 10, kernel_size=(5, 5), stride=(1, 1))\n",
            "  (fc1): Linear(in_features=160, out_features=80, bias=True)\n",
            "  (fc2): Linear(in_features=80, out_features=10, bias=True)\n",
            ")\n"
          ]
        }
      ],
      "source": [
        "classical_model = CNN().to(device)\n",
        "\n",
        "print(\"Model Architecture:\")\n",
        "print(classical_model)"
      ]
    },
    {
      "cell_type": "markdown",
      "source": [
        "The Hybrid Neural Network (HNN) combines a classical model (e.g., CNN) with a quantum circuit. The purpose of the HNN is to enhance the performance of the classical model by leveraging the capabilities of quantum computing.\n",
        "\n",
        "The HNN supports the CNN in recognizing MNIST digits 0-9 as explained below:\n",
        "\n",
        "Integration with the Classical Model:\n",
        "The HNN takes the classical model (CNN) as an input parameter (classical_model) during initialization.\n",
        "The classical model is stored as an attribute of the HNN using self.classical_model = classical_model.\n",
        "This allows the HNN to access and utilize the features and predictions of the CNN.\n",
        "\n",
        "Quantum Circuit Parameters:\n",
        "The HNN initializes trainable parameters (self.theta and self.phi) for the quantum circuit.\n",
        "These parameters represent the angles of rotation gates in the quantum circuit and are learned during the training process.\n",
        "The quantum circuit introduces additional non-linearity and expressiveness to the model, potentially enhancing its ability to capture complex patterns in the data.\n",
        "\n",
        "Forward Pass:\n",
        "In the forward method of the HNN, the input data (input_data) is passed to the hybrid_forward function along with the classical model, quantum circuit parameters, device, and output dimension.\n",
        "The hybrid_forward function is responsible for integrating the classical model with the quantum circuit.\n",
        "It takes the features extracted by the CNN and uses them as input to the quantum circuit.\n",
        "The quantum circuit applies quantum operations based on the learned parameters (self.theta and self.phi) to transform the input features.\n",
        "The output of the quantum circuit is then processed and combined with the classical model's predictions to produce the final output.\n",
        "\n",
        "Hybrid Learning:\n",
        "During the training process, both the classical model (CNN) and the quantum circuit parameters (self.theta and self.phi) are optimized jointly.\n",
        "The gradients are propagated through the hybrid model, allowing the CNN and the quantum circuit to learn and adapt together.\n",
        "The quantum circuit can potentially learn to extract additional features or patterns that complement the CNN's capabilities.\n",
        "\n",
        "Output Dimension:\n",
        "The HNN's output dimension (output_dim) is set to 10, corresponding to the 10 digit classes (0 to 9) in the MNIST dataset.\n",
        "The hybrid model's final output represents the predicted probabilities for each digit class.\n",
        "\n",
        "By combining the CNN with a quantum circuit, the HNN aims to leverage the strengths of both classical and quantum computing. The quantum circuit can potentially capture additional patterns and correlations in the data that the CNN alone might miss. The hybrid approach allows for the exploration of quantum-enhanced feature extraction and classification."
      ],
      "metadata": {
        "id": "wL2nF2Y747F1"
      },
      "id": "wL2nF2Y747F1"
    },
    {
      "cell_type": "code",
      "source": [
        "class HNN(nn.Module):\n",
        "    def __init__(self, classical_model, device, output_dim=10):\n",
        "        super(HNN, self).__init__()\n",
        "\n",
        "        # Store the classical model as an attribute\n",
        "        self.classical_model = classical_model\n",
        "\n",
        "        # Store the output dimension as an attribute\n",
        "        self.output_dim = output_dim\n",
        "\n",
        "        # Initialize trainable parameters for the quantum circuit\n",
        "        self.theta = nn.Parameter(torch.randn(1))\n",
        "        self.phi = nn.Parameter(torch.randn(1))\n",
        "\n",
        "        # Store the device as an attribute\n",
        "        self.device = device\n",
        "\n",
        "        # Move the model to the specified device if it's not None\n",
        "        if device is not None:\n",
        "            self.to(device)\n",
        "\n",
        "    def forward(self, input_data):\n",
        "        # Call the hybrid_forward function with the input data, classical model,\n",
        "        # quantum circuit parameters (theta and phi), device, and output dimension\n",
        "        return hybrid_forward(input_data, self.classical_model, self.theta, self.phi, self.device, self.output_dim)"
      ],
      "metadata": {
        "id": "_0nbvwq-6Qjd"
      },
      "id": "_0nbvwq-6Qjd",
      "execution_count": 22,
      "outputs": []
    },
    {
      "cell_type": "code",
      "source": [
        "# Create an instance of the hybrid model\n",
        "hybrid_model = HNN(classical_model, device=device, output_dim=10).to(device)"
      ],
      "metadata": {
        "id": "pHocHFOw6xSi"
      },
      "id": "pHocHFOw6xSi",
      "execution_count": 23,
      "outputs": []
    },
    {
      "cell_type": "code",
      "source": [
        "# Print the hybrid model architecture\n",
        "print(\"Hybrid Model Architecture:\")\n",
        "print(hybrid_model)"
      ],
      "metadata": {
        "id": "i9gnPUtS7FEs",
        "colab": {
          "base_uri": "https://localhost:8080/"
        },
        "outputId": "92ce9b4a-d6c5-40d1-c52a-ce41b550c62c"
      },
      "id": "i9gnPUtS7FEs",
      "execution_count": 24,
      "outputs": [
        {
          "output_type": "stream",
          "name": "stdout",
          "text": [
            "Hybrid Model Architecture:\n",
            "HNN(\n",
            "  (classical_model): CNN(\n",
            "    (conv1): Conv2d(1, 4, kernel_size=(5, 5), stride=(1, 1))\n",
            "    (conv2): Conv2d(4, 10, kernel_size=(5, 5), stride=(1, 1))\n",
            "    (fc1): Linear(in_features=160, out_features=80, bias=True)\n",
            "    (fc2): Linear(in_features=80, out_features=10, bias=True)\n",
            "  )\n",
            ")\n"
          ]
        }
      ]
    },
    {
      "cell_type": "code",
      "execution_count": 25,
      "id": "d6ea1172-9b8b-48bf-ae82-de28b755a161",
      "metadata": {
        "id": "d6ea1172-9b8b-48bf-ae82-de28b755a161"
      },
      "outputs": [],
      "source": [
        "optimizer = optim.Adam(classical_model.parameters())"
      ]
    },
    {
      "cell_type": "code",
      "execution_count": 26,
      "id": "d87f07a6-d229-446f-a951-3536f0e8604a",
      "metadata": {
        "id": "d87f07a6-d229-446f-a951-3536f0e8604a"
      },
      "outputs": [],
      "source": [
        "loss_fn = nn.NLLLoss()"
      ]
    },
    {
      "cell_type": "code",
      "execution_count": 27,
      "id": "H09bz5fwDFj7",
      "metadata": {
        "id": "H09bz5fwDFj7"
      },
      "outputs": [],
      "source": [
        "import gzip\n",
        "import numpy as np\n",
        "from torchvision import transforms\n",
        "\n",
        "def load_emnist_digits(data_dir, train=True, transform=None, filtered=range(10)):\n",
        "    if train:\n",
        "        image_file = 'emnist-digits-train-images-idx3-ubyte.gz'\n",
        "        label_file = 'emnist-digits-train-labels-idx1-ubyte.gz'\n",
        "    else:\n",
        "        image_file = 'emnist-digits-test-images-idx3-ubyte.gz'\n",
        "        label_file = 'emnist-digits-test-labels-idx1-ubyte.gz'\n",
        "\n",
        "    image_path = os.path.join(data_dir, image_file)\n",
        "    label_path = os.path.join(data_dir, label_file)\n",
        "\n",
        "    with gzip.open(image_path, 'rb') as f:\n",
        "        images = np.frombuffer(f.read(), np.uint8, offset=16).reshape(-1, 28, 28)\n",
        "    with gzip.open(label_path, 'rb') as f:\n",
        "        labels = np.frombuffer(f.read(), np.uint8, offset=8)\n",
        "\n",
        "    dataset = EMNISTDataset(images, labels, transform)\n",
        "\n",
        "    if filtered is not None:\n",
        "        digits_to_keep = list(filtered)  # Convert the range object to a list\n",
        "        mask = np.isin(dataset.labels, digits_to_keep)\n",
        "        dataset.images = dataset.images[mask]\n",
        "        dataset.labels = dataset.labels[mask]\n",
        "\n",
        "    return dataset"
      ]
    },
    {
      "cell_type": "code",
      "execution_count": 28,
      "id": "Wvn2OTedITEr",
      "metadata": {
        "id": "Wvn2OTedITEr"
      },
      "outputs": [],
      "source": [
        "def filtered_dataset_EMNIST(train_set, test_set, filtered_digits=[0, 1, 2, 3, 4, 5, 6, 7, 8, 9]):\n",
        "    if filtered_digits is not None:\n",
        "        train_mask = np.isin(train_set.labels, filtered_digits)\n",
        "        test_mask = np.isin(test_set.labels, filtered_digits)\n",
        "\n",
        "        train_images = train_set.images[train_mask]\n",
        "        train_labels = train_set.labels[train_mask]\n",
        "        test_images = test_set.images[test_mask]\n",
        "        test_labels = test_set.labels[test_mask]\n",
        "\n",
        "        filtered_train_set = EMNISTDataset(train_images, train_labels, transform=train_set.transform)\n",
        "        filtered_test_set = EMNISTDataset(test_images, test_labels, transform=test_set.transform)\n",
        "    else:\n",
        "        filtered_train_set = train_set\n",
        "        filtered_test_set = test_set\n",
        "\n",
        "    return filtered_train_set, filtered_test_set"
      ]
    },
    {
      "cell_type": "code",
      "execution_count": 29,
      "id": "r2Vbxm040dSn",
      "metadata": {
        "id": "r2Vbxm040dSn"
      },
      "outputs": [],
      "source": [
        "import gzip\n",
        "import numpy as np\n",
        "import torch\n",
        "from torch.utils.data import Dataset\n",
        "from torchvision.transforms import ToTensor\n",
        "\n",
        "class EMNISTDigits(Dataset):\n",
        "    def __init__(self, root, train=True, transform=None, target_transform=None):\n",
        "        self.root = root\n",
        "        self.train = train\n",
        "        self.transform = transform\n",
        "        self.target_transform = target_transform\n",
        "\n",
        "        prefix = 'train' if self.train else 'test'\n",
        "        image_file = f'{self.root}/emnist-digits-{prefix}-images-idx3-ubyte.gz'\n",
        "        label_file = f'{self.root}/emnist-digits-{prefix}-labels-idx1-ubyte.gz'\n",
        "\n",
        "        with gzip.open(image_file, 'rb') as f:\n",
        "            self.images = np.frombuffer(f.read(), np.uint8, offset=16).reshape(-1, 28, 28)\n",
        "\n",
        "        with gzip.open(label_file, 'rb') as f:\n",
        "            self.labels = np.frombuffer(f.read(), np.uint8, offset=8)\n",
        "\n",
        "    def __getitem__(self, index):\n",
        "        image = self.images[index]\n",
        "        label = self.labels[index]\n",
        "\n",
        "        if self.transform is not None:\n",
        "            image = self.transform(image)\n",
        "\n",
        "        if self.target_transform is not None:\n",
        "            label = self.target_transform(label)\n",
        "\n",
        "        return image, label\n",
        "\n",
        "    def __len__(self):\n",
        "        return len(self.images)"
      ]
    },
    {
      "cell_type": "code",
      "execution_count": 30,
      "id": "BUkp5z9P1Egk",
      "metadata": {
        "id": "BUkp5z9P1Egk"
      },
      "outputs": [],
      "source": [
        "#!ls \"/content/drive/My Drive/data/EMNIST/raw/\""
      ]
    },
    {
      "cell_type": "markdown",
      "source": [
        "The MNIST (Modified National Institute of Standards and Technology) dataset is a large collection of handwritten digits commonly used for training and testing machine learning models, particularly in the field of computer vision and image classification.\n",
        "\n",
        "The MNIST dataset contains a total of 70,000 images of handwritten digits. These images are divided into two subsets:\n",
        "\n",
        "Training set: The training set consists of 60,000 images. This set is used to train the machine learning models, allowing them to learn patterns and features from the labeled examples.\n",
        "Test set: The test set contains the remaining 10,000 images. This set is used to evaluate the performance and accuracy of the trained models on unseen data.\n",
        "Each image in the MNIST dataset is a grayscale image with a size of 28x28 pixels. The digits in the images are centered and normalized to fit within the 28x28 pixel frame."
      ],
      "metadata": {
        "id": "y8g-al5C1aO5"
      },
      "id": "y8g-al5C1aO5"
    },
    {
      "cell_type": "markdown",
      "source": [
        "The EMNIST (Extended MNIST) dataset is an extension of the original MNIST dataset, providing additional handwritten character classes beyond just digits. The EMNIST dataset consists of several subsets, including EMNIST Balanced, EMNIST Letters, EMNIST Digits, EMNIST MNIST, and EMNIST By_Merge.\n",
        "\n",
        "Specifically, the EMNIST \"Digits\" subset contains handwritten digit images, similar to the original MNIST dataset. The number of images in the EMNIST \"Digits\" subset is as follows:\n",
        "\n",
        "Training set: The training set of EMNIST \"Digits\" contains 240,000 images.\n",
        "Test set: The test set of EMNIST \"Digits\" contains 40,000 images.\n",
        "Therefore, the total number of images in the EMNIST \"Digits\" subset is 280,000 (240,000 training images + 40,000 test images).\n",
        "\n",
        "The images in EMNIST \"Digits\" have the same format as the original MNIST dataset, with each image being a grayscale image of size 28x28 pixels, centered and normalized."
      ],
      "metadata": {
        "id": "HgiVyr1W1mBJ"
      },
      "id": "HgiVyr1W1mBJ"
    },
    {
      "cell_type": "markdown",
      "source": [
        "The SVHN (Street View House Numbers) dataset is a real-world image dataset for developing machine learning and object recognition algorithms with a focus on recognizing digits and numbers in natural scene images. The dataset was obtained from house numbers in Google Street View images.\n",
        "\n",
        "The SVHN dataset consists of two formats:\n",
        "\n",
        "Original Images:\n",
        "Training set: 73,257 images\n",
        "Test set: 26,032 images\n",
        "Extra training set: 531,131 images\n",
        "The original images are in color and of varying sizes, containing one or more digits in each image.\n",
        "MNIST-like 32x32 images centered around a single character:\n",
        "Training set: 73,257 images\n",
        "Test set: 26,032 images\n",
        "Extra training set: 531,131 images\n",
        "These images are preprocessed to be similar to the MNIST dataset format, with each image cropped to 32x32 pixels and centered around a single digit.\n",
        "In total, the SVHN dataset contains 630,420 images (73,257 + 26,032 + 531,131) in both the original format and the MNIST-like format."
      ],
      "metadata": {
        "id": "UqDUEfkp1uGm"
      },
      "id": "UqDUEfkp1uGm"
    },
    {
      "cell_type": "markdown",
      "source": [
        "The USPS (United States Postal Service) dataset is a collection of handwritten digit images scanned from envelopes by the U.S. Postal Service. It is commonly used as a benchmark dataset for digit recognition tasks in machine learning and computer vision.\n",
        "\n",
        "The USPS dataset contains a total of 9,298 images. These images are divided into two subsets:\n",
        "\n",
        "Training set: The training set consists of 7,291 images.\n",
        "Test set: The test set contains the remaining 2,007 images.\n",
        "Each image in the USPS dataset is a grayscale image with a size of 16x16 pixels. The digits in the images are centered and normalized to fit within the 16x16 pixel frame.\n",
        "\n",
        "Compared to the MNIST dataset, the USPS dataset has a smaller number of images and a lower resolution. However, it provides a different set of handwritten digit samples and can be used as an additional benchmark or for testing the generalization ability of digit recognition models trained on other datasets like MNIST."
      ],
      "metadata": {
        "id": "PeJ5tHJU2El2"
      },
      "id": "PeJ5tHJU2El2"
    },
    {
      "cell_type": "markdown",
      "source": [
        "The Semeion dataset, also known as the Semeion Handwritten Digit dataset, is a collection of handwritten digit images created by the Semeion Research Center of Sciences of Communication in Rome, Italy. It is used for benchmarking and evaluating handwritten digit recognition models.\n",
        "\n",
        "The Semeion dataset contains a total of 1,593 handwritten digit images. Each image is a grayscale image with a size of 16x16 pixels, similar to the USPS dataset.\n",
        "\n",
        "The dataset is structured as follows:\n",
        "\n",
        "The dataset consists of 1,593 rows, where each row represents a single handwritten digit image.\n",
        "Each row contains 256 columns representing the pixel values of the 16x16 image, followed by an additional 10 columns representing the one-hot encoded label of the digit (0-9).\n",
        "Unlike some other well-known datasets like MNIST or USPS, the Semeion dataset does not have a predefined split into training and test sets. Researchers often use their own split ratios or cross-validation techniques when working with this dataset."
      ],
      "metadata": {
        "id": "sJoaGX062Ou0"
      },
      "id": "sJoaGX062Ou0"
    },
    {
      "cell_type": "code",
      "execution_count": 31,
      "id": "31916be4-b247-445e-bdb4-f7f651135af8",
      "metadata": {
        "id": "31916be4-b247-445e-bdb4-f7f651135af8",
        "colab": {
          "base_uri": "https://localhost:8080/"
        },
        "outputId": "57169a4b-af40-4aa6-f4c5-883782728e6d"
      },
      "outputs": [
        {
          "output_type": "stream",
          "name": "stdout",
          "text": [
            "/content/drive/My Drive/data/MNIST/\n"
          ]
        }
      ],
      "source": [
        "import torchvision.datasets as datasets\n",
        "import torchvision.transforms as transforms\n",
        "import os\n",
        "from PIL import Image\n",
        "from torch.utils.data import Dataset\n",
        "from torchvision.transforms import ToTensor\n",
        "\n",
        "if dataset_name == 'MNIST':\n",
        "    # Load a dataset from Google Drive\n",
        "    data_dir = drive_path + 'data/MNIST/'\n",
        "    print(data_dir)\n",
        "    train_set = datasets.MNIST(data_dir, train=True, download=False, transform=transforms.ToTensor())\n",
        "    test_set = datasets.MNIST(data_dir, train=False, download=False, transform=transforms.ToTensor())\n",
        "elif dataset_name == 'EMNIST':\n",
        "    # Load a dataset from Google Drive\n",
        "    data_dir = drive_path + 'data/EMNIST/raw/'\n",
        "    train_set = EMNISTDigits(data_dir, train=True, transform=ToTensor())\n",
        "    test_set = EMNISTDigits(data_dir, train=False, transform=ToTensor())\n",
        "    print(data_dir)\n",
        "elif dataset_name == 'SVHN':\n",
        "    data_dir = '/content/drive/data/'\n",
        "    train_set = datasets.SVHN(data_dir, split='train', download=True, transform=data_transform)\n",
        "    test_set = datasets.SVHN(data_dir, split='test', download=True, transform=data_transform)\n",
        "elif dataset_name == 'USPS':\n",
        "    data_dir = '/content/drive/data/'\n",
        "    train_set = datasets.USPS(data_dir, train=True, download=True, transform=data_transform)\n",
        "    test_set = datasets.USPS(data_dir, train=False, download=True, transform=data_transform)\n",
        "elif dataset_name == 'Semeion':\n",
        "    data_dir = '/content/drive/data/'\n",
        "    from torch.utils.data import DataLoader, Dataset, random_split\n",
        "    import numpy as np\n",
        "    from torchvision import transforms\n",
        "\n",
        "    class SemeionDataset(Dataset):\n",
        "        def __init__(self, file_path, transform=None):\n",
        "            data = np.loadtxt(file_path)\n",
        "            self.images = data[:, :256].reshape(-1, 16, 16).astype(np.float32)\n",
        "            self.labels = data[:, 256:].astype(np.int64)\n",
        "            self.transform = transform\n",
        "\n",
        "        def __len__(self):\n",
        "            return len(self.images)\n",
        "\n",
        "        def __getitem__(self, idx):\n",
        "            image = self.images[idx]\n",
        "            label = self.labels[idx].argmax()  # Convert one-hot encoded labels to integers\n",
        "            if self.transform:\n",
        "                image = self.transform(image)\n",
        "            return image, label\n",
        "\n",
        "    # Define the data transformation\n",
        "    data_transform = transforms.Compose([\n",
        "        transforms.ToTensor(),\n",
        "        transforms.Resize((28, 28)),  # Resize the images to 28x28 pixels\n",
        "        transforms.Normalize((0.1307,), (0.3081,))  # Normalize the images\n",
        "    ])\n",
        "\n",
        "    # Load the Semeion dataset\n",
        "    dataset = SemeionDataset(data_dir, transform=data_transform)\n",
        "\n",
        "    # Split the dataset into training and test sets\n",
        "    train_size = int(0.8 * len(dataset))\n",
        "    test_size = len(dataset) - train_size\n",
        "    train_set, test_set = random_split(dataset, [train_size, test_size])\n",
        "\n",
        "else:\n",
        "    raise ValueError(\"Invalid dataset name.\")"
      ]
    },
    {
      "cell_type": "code",
      "execution_count": 32,
      "id": "db1e3f95-e99c-4dae-84ec-a2257034b356",
      "metadata": {
        "id": "db1e3f95-e99c-4dae-84ec-a2257034b356"
      },
      "outputs": [],
      "source": [
        "\n",
        "from torch.utils.data import Subset\n",
        "import numpy as np\n",
        "\n",
        "def filtered_dataset(train_set, test_set, filtered=0, dataset_name=None):\n",
        "    if filtered == 0:  # digits 0 and 1\n",
        "        if dataset_name == 'SVHN' or dataset_name == 'EMNIST':\n",
        "            train_indexes_0 = torch.where(torch.tensor(train_set.labels) == 0)[0]\n",
        "            train_indexes_1 = torch.where(torch.tensor(train_set.labels) == 1)[0]\n",
        "            test_indexes_0 = torch.where(torch.tensor(test_set.labels) == 0)[0]\n",
        "            test_indexes_1 = torch.where(torch.tensor(test_set.labels) == 1)[0]\n",
        "        elif dataset_name == 'USPS':\n",
        "            train_indexes_0 = torch.where(torch.tensor(train_set.targets) == 0)[0]\n",
        "            train_indexes_1 = torch.where(torch.tensor(train_set.targets) == 1)[0]\n",
        "            test_indexes_0 = torch.where(torch.tensor(test_set.targets) == 0)[0]\n",
        "            test_indexes_1 = torch.where(torch.tensor(test_set.targets) == 1)[0]\n",
        "        else:\n",
        "            try:\n",
        "                train_indexes_0 = torch.where(train_set.targets == 0)[0]\n",
        "                train_indexes_1 = torch.where(train_set.targets == 1)[0]\n",
        "                test_indexes_0 = torch.where(test_set.targets == 0)[0]\n",
        "                test_indexes_1 = torch.where(test_set.targets == 1)[0]\n",
        "            except AttributeError:\n",
        "                train_indexes_0 = torch.where(torch.tensor(train_set.labels) == 0)[0]\n",
        "                train_indexes_1 = torch.where(torch.tensor(train_set.labels) == 1)[0]\n",
        "                test_indexes_0 = torch.where(torch.tensor(test_set.labels) == 0)[0]\n",
        "                test_indexes_1 = torch.where(torch.tensor(test_set.labels) == 1)[0]\n",
        "\n",
        "        num_to_sample_train = min(len(train_indexes_0), len(train_indexes_1))\n",
        "        num_to_sample_test = min(len(test_indexes_0), len(test_indexes_1))\n",
        "\n",
        "        sampled_train_indexes_0 = train_indexes_0[torch.randperm(len(train_indexes_0))[:num_to_sample_train]]\n",
        "        sampled_train_indexes_1 = train_indexes_1[torch.randperm(len(train_indexes_1))[:num_to_sample_train]]\n",
        "        sampled_test_indexes_0 = test_indexes_0[torch.randperm(len(test_indexes_0))[:num_to_sample_test]]\n",
        "        sampled_test_indexes_1 = test_indexes_1[torch.randperm(len(test_indexes_1))[:num_to_sample_test]]\n",
        "\n",
        "        selected_train_indexes = torch.cat([sampled_train_indexes_0, sampled_train_indexes_1])\n",
        "        selected_test_indexes = torch.cat([sampled_test_indexes_0, sampled_test_indexes_1])\n",
        "\n",
        "    elif filtered == 1:  # digits 0 to 9\n",
        "        train_indexes = []\n",
        "        test_indexes = []\n",
        "        for i in range(10):\n",
        "            if dataset_name == 'SVHN' or dataset_name == 'EMNIST':\n",
        "                train_idx = torch.where(torch.tensor(train_set.labels) == i)[0]\n",
        "                test_idx = torch.where(torch.tensor(test_set.labels) == i)[0]\n",
        "            elif dataset_name == 'USPS':\n",
        "                train_idx = torch.where(torch.tensor(train_set.targets) == i)[0]\n",
        "                test_idx = torch.where(torch.tensor(test_set.targets) == i)[0]\n",
        "            elif dataset_name == 'Semeion':\n",
        "                train_idx = torch.tensor([dataset.labels[idx].argmax() for idx in train_set.indices])\n",
        "                test_idx = torch.tensor([dataset.labels[idx].argmax() for idx in test_set.indices])\n",
        "            else:\n",
        "                try:\n",
        "                    train_idx = torch.where(train_set.targets == i)[0]\n",
        "                    test_idx = torch.where(test_set.targets == i)[0]\n",
        "                except AttributeError:\n",
        "                    train_idx = torch.where(torch.tensor(train_set.labels) == i)[0]\n",
        "                    test_idx = torch.where(torch.tensor(test_set.labels) == i)[0]\n",
        "\n",
        "            train_indexes.append(train_idx)\n",
        "            test_indexes.append(test_idx)\n",
        "\n",
        "        min_num_samples_train = min(len(idx) for idx in train_indexes)\n",
        "        min_num_samples_test = min(len(idx) for idx in test_indexes)\n",
        "\n",
        "        sampled_train_indexes = []\n",
        "        sampled_test_indexes = []\n",
        "        for train_idx, test_idx in zip(train_indexes, test_indexes):\n",
        "            sampled_train_indexes.append(train_idx[torch.randperm(len(train_idx))[:min_num_samples_train]])\n",
        "            sampled_test_indexes.append(test_idx[torch.randperm(len(test_idx))[:min_num_samples_test]])\n",
        "\n",
        "        selected_train_indexes = torch.cat(sampled_train_indexes)\n",
        "        selected_test_indexes = torch.cat(sampled_test_indexes)\n",
        "\n",
        "    else:\n",
        "        raise ValueError(\"Invalid value for 'filtered'. Choose either 0 or 1.\")\n",
        "\n",
        "    filtered_train_set = torch.utils.data.Subset(train_set, selected_train_indexes)\n",
        "    filtered_test_set = torch.utils.data.Subset(test_set, selected_test_indexes)\n",
        "\n",
        "    return filtered_train_set, filtered_test_set"
      ]
    },
    {
      "cell_type": "code",
      "execution_count": 33,
      "id": "1fcd9364-6c99-476d-9e15-ee310e2d1dce",
      "metadata": {
        "id": "1fcd9364-6c99-476d-9e15-ee310e2d1dce",
        "colab": {
          "base_uri": "https://localhost:8080/"
        },
        "outputId": "06de65a4-8e04-439a-f950-23ec9d3c5636"
      },
      "outputs": [
        {
          "output_type": "stream",
          "name": "stdout",
          "text": [
            "MNIST\n",
            "Number of images in the filtered training set: 54210\n",
            "Number of images in the filtered test set: 8920\n"
          ]
        }
      ],
      "source": [
        "global filtered_train_set, filtered_test_set\n",
        "print(dataset_name)\n",
        "\n",
        "filtered_train_set, filtered_test_set = filtered_dataset(train_set, test_set, filtered=1)\n",
        "# Print the number of images in the filtered training set\n",
        "print(\"Number of images in the filtered training set:\", len(filtered_train_set))\n",
        "\n",
        "# Print the number of images in the filtered test set\n",
        "print(\"Number of images in the filtered test set:\", len(filtered_test_set))"
      ]
    },
    {
      "cell_type": "code",
      "execution_count": 34,
      "id": "d49fa0ce-279f-486b-9946-5aa2da6cc28b",
      "metadata": {
        "colab": {
          "base_uri": "https://localhost:8080/"
        },
        "id": "d49fa0ce-279f-486b-9946-5aa2da6cc28b",
        "outputId": "70cf19eb-5ccd-4ba7-b083-e8a76fb5e5c7"
      },
      "outputs": [
        {
          "output_type": "stream",
          "name": "stdout",
          "text": [
            "MNIST\n",
            "Number of batches in the filtered training set: 848\n",
            "Number of batches in the filtered test set: 140\n",
            "Number of images in the filtered training set: 54210\n",
            "Number of images in the filtered test set: 8920\n"
          ]
        }
      ],
      "source": [
        "global filtered_train_loader, filtered_test_loader\n",
        "print(dataset_name)\n",
        "\n",
        "filtered_train_loader = DataLoader(filtered_train_set, batch_size=64, shuffle=True)\n",
        "filtered_test_loader = DataLoader(filtered_test_set, batch_size=64)\n",
        "\n",
        "# Print the number of batches in the data loaders\n",
        "print(\"Number of batches in the filtered training set:\", len(filtered_train_loader))\n",
        "print(\"Number of batches in the filtered test set:\", len(filtered_test_loader))\n",
        "\n",
        "# Print the exact number of images in the filtered sets\n",
        "print(\"Number of images in the filtered training set:\", len(filtered_train_set))\n",
        "print(\"Number of images in the filtered test set:\", len(filtered_test_set))"
      ]
    },
    {
      "cell_type": "code",
      "execution_count": 35,
      "id": "7d774a42-1370-42b3-abbe-3dbe61c54d75",
      "metadata": {
        "id": "7d774a42-1370-42b3-abbe-3dbe61c54d75"
      },
      "outputs": [],
      "source": [
        "import matplotlib.pyplot as plt\n",
        "def print_images(images, labels, preds, n):\n",
        "\n",
        "    fig = plt.figure(figsize=(6, 6))\n",
        "    for i in range(n):\n",
        "        ax = fig.add_subplot(2, 3, i+1)\n",
        "        img = images[i].squeeze()\n",
        "        ax.imshow(img, cmap='gray')\n",
        "        pred = preds[i].argmax()\n",
        "        ax.set_title(f\"{labels[i].item()} -> {pred.item()}\")\n",
        "        ax.axis('off')\n",
        "\n",
        "    plt.show()"
      ]
    },
    {
      "cell_type": "code",
      "execution_count": 36,
      "id": "97f6690b-ad8c-4e0d-b6ca-6a0cb80df1b0",
      "metadata": {
        "id": "97f6690b-ad8c-4e0d-b6ca-6a0cb80df1b0"
      },
      "outputs": [],
      "source": [
        "import os\n",
        "\n",
        "def save_clean_model(model, save_dir):\n",
        "\n",
        "    if not os.path.exists(save_dir):\n",
        "        os.makedirs(save_dir)\n",
        "\n",
        "    model_path = f\"{save_dir}/clean_model.pth\"\n",
        "\n",
        "    torch.save(model.state_dict(), model_path)\n",
        "    #print(f\"Saved clean_model state dict to {model_path}\")"
      ]
    },
    {
      "cell_type": "code",
      "execution_count": 37,
      "id": "0vbZvTM3rqeZ",
      "metadata": {
        "id": "0vbZvTM3rqeZ"
      },
      "outputs": [],
      "source": [
        "import matplotlib.pyplot as plt\n",
        "\n",
        "def plot_accuracy_loss(train_accuracies, train_losses):\n",
        "    epochs = range(1, len(train_accuracies) + 1)\n",
        "\n",
        "    plt.figure(figsize=(12, 6))\n",
        "    plt.subplot(1, 2, 1)\n",
        "    plt.plot(epochs, train_accuracies, 'b', label='Training Accuracy')\n",
        "    plt.title('Training Accuracy')\n",
        "    plt.xlabel('Epochs')\n",
        "    plt.ylabel('Accuracy')\n",
        "    plt.legend()\n",
        "\n",
        "    plt.subplot(1, 2, 2)\n",
        "    plt.plot(epochs, train_losses, 'b', label='Training Loss')\n",
        "    plt.title('Training Loss')\n",
        "    plt.xlabel('Epochs')\n",
        "    plt.ylabel('Loss')\n",
        "    plt.legend()\n",
        "\n",
        "    plt.tight_layout()\n",
        "    plt.show()"
      ]
    },
    {
      "cell_type": "code",
      "execution_count": 38,
      "id": "006d4aa3-14bf-4ee8-9d9a-eaeed40a3933",
      "metadata": {
        "id": "006d4aa3-14bf-4ee8-9d9a-eaeed40a3933"
      },
      "outputs": [],
      "source": [
        "# Train model\n",
        "import numpy as np\n",
        "import torch\n",
        "\n",
        "def train_model(model, train_loader, loss_fn, optimizer, num_epochs, device, batch_size=128, learning_rate=0.001, weight_decay=0.0001):\n",
        "  # Model folder\n",
        "  save_dir = 'clean_models'\n",
        "\n",
        "  train_accuracies = []\n",
        "  train_losses = []\n",
        "\n",
        "  model.to(device)  # Move the model to the specified device\n",
        "\n",
        "  # Initialize trainable parameters for the quantum circuit\n",
        "  theta = torch.randn(1, requires_grad=True, device=device)\n",
        "  phi = torch.randn(1, requires_grad=True, device=device)\n",
        "\n",
        "  # Adjust learning rate and weight decay\n",
        "  for param_group in optimizer.param_groups:\n",
        "    param_group['lr'] = learning_rate\n",
        "    param_group['weight_decay'] = weight_decay\n",
        "\n",
        "  for epoch in range(num_epochs):\n",
        "    print(f\"Epoch {epoch+1}/{num_epochs}\")\n",
        "\n",
        "    # Training\n",
        "    model.train()\n",
        "    train_loss = 0.0\n",
        "    train_correct = 0\n",
        "    train_total = 0\n",
        "\n",
        "    for i, (imgs, labels) in enumerate(train_loader):\n",
        "      # Forward pass through hybrid model using model's forward function\n",
        "      hybrid_output = model(imgs)  # Call forward pass on the model with training data\n",
        "\n",
        "      loss = loss_fn(hybrid_output, labels.to(device))\n",
        "      optimizer.zero_grad()\n",
        "      loss.backward()\n",
        "      optimizer.step()\n",
        "\n",
        "      train_loss += loss.item()\n",
        "      _, predicted = torch.max(hybrid_output.data, 1)\n",
        "      train_total += labels.size(0)\n",
        "      train_correct += (predicted == labels.to(device)).sum().item()\n",
        "\n",
        "      if i == 0:\n",
        "        print_images(imgs.cpu(), labels.cpu(), hybrid_output.cpu(), n=3)  # Move data back to CPU for printing\n",
        "\n",
        "    train_loss /= len(train_loader)\n",
        "    train_acc = train_correct / train_total\n",
        "    print(f\"Train Loss: {train_loss:.4f}, Train Accuracy: {train_acc:.4f}\")\n",
        "    train_accuracies.append(train_acc)\n",
        "    train_losses.append(train_loss)\n",
        "\n",
        "  # Plot accuracy and loss curves\n",
        "  plot_accuracy_loss(train_accuracies, train_losses)\n",
        "\n",
        "  save_clean_model(model, save_dir)"
      ]
    },
    {
      "cell_type": "code",
      "execution_count": 39,
      "id": "84139728-03c9-4c31-bed5-37d8bf23160b",
      "metadata": {
        "id": "84139728-03c9-4c31-bed5-37d8bf23160b",
        "colab": {
          "base_uri": "https://localhost:8080/",
          "height": 1000
        },
        "outputId": "b9f21388-ab03-43ba-c2bb-27896f58bdf3"
      },
      "outputs": [
        {
          "output_type": "stream",
          "name": "stdout",
          "text": [
            "Epoch 1/10\n"
          ]
        },
        {
          "output_type": "display_data",
          "data": {
            "text/plain": [
              "<Figure size 600x600 with 3 Axes>"
            ],
            "image/png": "[encoded data removed]"
          },
          "metadata": {}
        },
        {
          "output_type": "stream",
          "name": "stdout",
          "text": [
            "Train Loss: 0.4488, Train Accuracy: 0.8603\n",
            "Epoch 2/10\n"
          ]
        },
        {
          "output_type": "display_data",
          "data": {
            "text/plain": [
              "<Figure size 600x600 with 3 Axes>"
            ],
            "image/png": "[encoded data removed]"
          },
          "metadata": {}
        },
        {
          "output_type": "stream",
          "name": "stdout",
          "text": [
            "Train Loss: 0.1253, Train Accuracy: 0.9616\n",
            "Epoch 3/10\n"
          ]
        },
        {
          "output_type": "display_data",
          "data": {
            "text/plain": [
              "<Figure size 600x600 with 3 Axes>"
            ],
            "image/png": "[encoded data removed]"
          },
          "metadata": {}
        },
        {
          "output_type": "stream",
          "name": "stdout",
          "text": [
            "Train Loss: 0.0891, Train Accuracy: 0.9728\n",
            "Epoch 4/10\n"
          ]
        },
        {
          "output_type": "display_data",
          "data": {
            "text/plain": [
              "<Figure size 600x600 with 3 Axes>"
            ],
            "image/png": "[encoded data removed]"
          },
          "metadata": {}
        },
        {
          "output_type": "stream",
          "name": "stdout",
          "text": [
            "Train Loss: 0.0724, Train Accuracy: 0.9771\n",
            "Epoch 5/10\n"
          ]
        },
        {
          "output_type": "display_data",
          "data": {
            "text/plain": [
              "<Figure size 600x600 with 3 Axes>"
            ],
            "image/png": "[encoded data removed]"
          },
          "metadata": {}
        },
        {
          "output_type": "stream",
          "name": "stdout",
          "text": [
            "Train Loss: 0.0611, Train Accuracy: 0.9804\n",
            "Epoch 6/10\n"
          ]
        },
        {
          "output_type": "display_data",
          "data": {
            "text/plain": [
              "<Figure size 600x600 with 3 Axes>"
            ],
            "image/png": "[encoded data removed]"
          },
          "metadata": {}
        },
        {
          "output_type": "stream",
          "name": "stdout",
          "text": [
            "Train Loss: 0.0533, Train Accuracy: 0.9831\n",
            "Epoch 7/10\n"
          ]
        },
        {
          "output_type": "display_data",
          "data": {
            "text/plain": [
              "<Figure size 600x600 with 3 Axes>"
            ],
            "image/png": "[encoded data removed]"
          },
          "metadata": {}
        },
        {
          "output_type": "stream",
          "name": "stdout",
          "text": [
            "Train Loss: 0.0470, Train Accuracy: 0.9852\n",
            "Epoch 8/10\n"
          ]
        },
        {
          "output_type": "display_data",
          "data": {
            "text/plain": [
              "<Figure size 600x600 with 3 Axes>"
            ],
            "image/png": "[encoded data removed]"
          },
          "metadata": {}
        },
        {
          "output_type": "stream",
          "name": "stdout",
          "text": [
            "Train Loss: 0.0428, Train Accuracy: 0.9862\n",
            "Epoch 9/10\n"
          ]
        },
        {
          "output_type": "display_data",
          "data": {
            "text/plain": [
              "<Figure size 600x600 with 3 Axes>"
            ],
            "image/png": "[encoded data removed]"
          },
          "metadata": {}
        },
        {
          "output_type": "stream",
          "name": "stdout",
          "text": [
            "Train Loss: 0.0395, Train Accuracy: 0.9868\n",
            "Epoch 10/10\n"
          ]
        },
        {
          "output_type": "display_data",
          "data": {
            "text/plain": [
              "<Figure size 600x600 with 3 Axes>"
            ],
            "image/png": "[encoded data removed]"
          },
          "metadata": {}
        },
        {
          "output_type": "stream",
          "name": "stdout",
          "text": [
            "Train Loss: 0.0373, Train Accuracy: 0.9875\n"
          ]
        },
        {
          "output_type": "display_data",
          "data": {
            "text/plain": [
              "<Figure size 1200x600 with 2 Axes>"
            ],
            "image/png": "[encoded data removed]"
          },
          "metadata": {}
        }
      ],
      "source": [
        "import time\n",
        "# Start the timer\n",
        "start_time = time.time()\n",
        "train_model(hybrid_model, filtered_train_loader, loss_fn, optimizer, num_epochs,device)\n",
        "# End the timer\n",
        "end_time = time.time()"
      ]
    },
    {
      "cell_type": "code",
      "execution_count": 40,
      "id": "bbd069ac-c142-49bd-8967-57ccce7f81c4",
      "metadata": {
        "id": "bbd069ac-c142-49bd-8967-57ccce7f81c4",
        "colab": {
          "base_uri": "https://localhost:8080/"
        },
        "outputId": "3c2e671b-c17b-459b-dd0a-94a1fbfdd177"
      },
      "outputs": [
        {
          "output_type": "stream",
          "name": "stdout",
          "text": [
            "Training duration: 103.46 seconds\n",
            "Training duration: 1.72 minutes\n",
            "Training duration: 0.03 hours\n"
          ]
        }
      ],
      "source": [
        "# Calculate the training duration in seconds\n",
        "training_duration_seconds = abs(end_time - start_time)\n",
        "\n",
        "# Calculate the training duration in minutes\n",
        "training_duration_minutes = training_duration_seconds / 60\n",
        "\n",
        "# Calculate the training duration in hours\n",
        "training_duration_hours = training_duration_minutes / 60\n",
        "\n",
        "# Print the training duration in different units\n",
        "print(f\"Training duration: {training_duration_seconds:.2f} seconds\")\n",
        "print(f\"Training duration: {training_duration_minutes:.2f} minutes\")\n",
        "print(f\"Training duration: {training_duration_hours:.2f} hours\")"
      ]
    },
    {
      "cell_type": "code",
      "execution_count": 41,
      "id": "f989b4a1-7c0f-4e9c-9e08-93cbae908922",
      "metadata": {
        "id": "f989b4a1-7c0f-4e9c-9e08-93cbae908922"
      },
      "outputs": [],
      "source": [
        "def load_clean_model(model, save_dir):\n",
        "    # Model folder\n",
        "    model_path = f\"{save_dir}/clean_model.pth\"\n",
        "\n",
        "    if not os.path.exists(model_path):\n",
        "        raise FileNotFoundError(f\"Model file not found in {model_path}\")\n",
        "\n",
        "    model.load_state_dict(torch.load(model_path))\n",
        "    model.eval()\n",
        "\n",
        "    print(f\"Loaded clean_model state dict from {model_path}\")\n",
        "    return model"
      ]
    },
    {
      "cell_type": "code",
      "source": [
        "num_clean_elements = len(filtered_train_set)\n",
        "print(f\"Number of clean images: {num_clean_elements}\")"
      ],
      "metadata": {
        "colab": {
          "base_uri": "https://localhost:8080/"
        },
        "id": "CMBln0mEkk5U",
        "outputId": "8bded147-2efb-4e81-dcc5-5b65f4832b7a"
      },
      "id": "CMBln0mEkk5U",
      "execution_count": 42,
      "outputs": [
        {
          "output_type": "stream",
          "name": "stdout",
          "text": [
            "Number of clean images: 54210\n"
          ]
        }
      ]
    },
    {
      "cell_type": "code",
      "execution_count": 43,
      "id": "11oH9oQGw7Vp",
      "metadata": {
        "id": "11oH9oQGw7Vp"
      },
      "outputs": [],
      "source": [
        "import matplotlib.pyplot as plt\n",
        "\n",
        "def plot_test_accuracy_loss(test_accuracy, test_loss):\n",
        "    plt.figure(figsize=(12, 6))\n",
        "    plt.subplot(1, 2, 1)\n",
        "    plt.bar(1, test_accuracy, color='r', label='Testing Accuracy')\n",
        "    plt.title('Testing Accuracy')\n",
        "    plt.xlabel('Evaluation')\n",
        "    plt.ylabel('Accuracy')\n",
        "    plt.legend()\n",
        "\n",
        "    plt.subplot(1, 2, 2)\n",
        "    plt.bar(1, test_loss, color='r', label='Testing Loss')\n",
        "    plt.title('Testing Loss')\n",
        "    plt.xlabel('Evaluation')\n",
        "    plt.ylabel('Loss')\n",
        "    plt.legend()\n",
        "\n",
        "    plt.tight_layout()\n",
        "    plt.show()"
      ]
    },
    {
      "cell_type": "code",
      "execution_count": 44,
      "id": "ea9b8cfc-5d52-420d-a066-075752637960",
      "metadata": {
        "id": "ea9b8cfc-5d52-420d-a066-075752637960"
      },
      "outputs": [],
      "source": [
        "def evaluate(model, data_loader, loss_fn, device):\n",
        "    test_loss = 0.0\n",
        "    test_accuracy = 0.0\n",
        "    num_misclassified = 0\n",
        "    model.eval()\n",
        "    misclassified_images = []\n",
        "    misclassified_labels = []\n",
        "    misclassified_preds = []\n",
        "\n",
        "    images, labels = next(iter(data_loader))\n",
        "    images, labels = images.to(device), labels.to(device)  # Move data to the specified device\n",
        "    num_clean_test_elements = len(images)\n",
        "    print(f\"Number of clean test images: {num_clean_test_elements}\")\n",
        "\n",
        "    # Create dataset\n",
        "    test_ds = TensorDataset(images, labels)\n",
        "    # Create loader\n",
        "    test_loader = DataLoader(test_ds, batch_size=64)\n",
        "    dataset_size = len(test_loader.dataset)\n",
        "\n",
        "    with torch.no_grad():\n",
        "        for i, (x, y) in enumerate(test_loader):\n",
        "            x, y = x.to(device), y.to(device)  # Move data to the specified device\n",
        "            logits = model(x)\n",
        "            batch_loss = loss_fn(logits, y)\n",
        "            test_loss += batch_loss.item()\n",
        "            preds = torch.argmax(logits, dim=1)\n",
        "            test_accuracy += torch.sum(preds == y).item() / len(y)\n",
        "            incorrect_inds = torch.where(preds != y)[0]\n",
        "            num_misclassified += len(incorrect_inds)\n",
        "            if len(incorrect_inds) > 0:\n",
        "                misclassified_images.append(x[incorrect_inds].cpu())  # Move data back to CPU\n",
        "                misclassified_labels.append(y[incorrect_inds].cpu())  # Move data back to CPU\n",
        "                misclassified_preds.append(preds[incorrect_inds].cpu())  # Move data back to CPU\n",
        "\n",
        "    num_misclassified = min(num_misclassified, dataset_size)\n",
        "    print(f\"Number of misclassified images: {num_misclassified} out of {dataset_size}\")\n",
        "    test_loss /= len(test_loader)\n",
        "    test_accuracy /= len(test_loader)\n",
        "    print(f\"Clean Test loss: {test_loss:.4f}, Accuracy: {test_accuracy:.2%}\")\n",
        "\n",
        "    # Plot the test accuracy and loss\n",
        "    #plot_test_accuracy_loss(test_accuracy, test_loss)\n",
        "\n",
        "    # Handle empty lists\n",
        "    if len(misclassified_images) == 0:\n",
        "        misclassified_images.append(torch.tensor([]))\n",
        "    if len(misclassified_labels) == 0:\n",
        "        misclassified_labels.append(torch.tensor([]))\n",
        "    if len(misclassified_preds) == 0:\n",
        "        misclassified_preds.append(torch.tensor([]))\n",
        "\n",
        "    return test_loss, test_accuracy, [torch.cat(misclassified_images)], [torch.cat(misclassified_labels)], [torch.cat(misclassified_preds)]"
      ]
    },
    {
      "cell_type": "code",
      "execution_count": 45,
      "id": "3bc286ff-8d98-49a9-bb75-d2530073f446",
      "metadata": {
        "id": "3bc286ff-8d98-49a9-bb75-d2530073f446",
        "colab": {
          "base_uri": "https://localhost:8080/"
        },
        "outputId": "2dadf669-7186-4501-8306-8b9c0e6c59be"
      },
      "outputs": [
        {
          "output_type": "stream",
          "name": "stdout",
          "text": [
            "Loaded clean_model state dict from clean_models/clean_model.pth\n"
          ]
        }
      ],
      "source": [
        "# Model folder\n",
        "save_dir = 'clean_models'\n",
        "\n",
        "# Loading\n",
        "clean_model = load_clean_model(hybrid_model, save_dir)"
      ]
    },
    {
      "cell_type": "code",
      "execution_count": 46,
      "id": "e8853f9a-36e6-4a5a-bea7-b2bee29d3f2c",
      "metadata": {
        "id": "e8853f9a-36e6-4a5a-bea7-b2bee29d3f2c",
        "colab": {
          "base_uri": "https://localhost:8080/"
        },
        "outputId": "9acec3f0-7a6d-434e-ed69-7a9d8488effb"
      },
      "outputs": [
        {
          "output_type": "stream",
          "name": "stdout",
          "text": [
            "Number of clean test images: 64\n",
            "Number of misclassified images: 0 out of 64\n",
            "Clean Test loss: 0.0006, Accuracy: 100.00%\n"
          ]
        }
      ],
      "source": [
        "from torch.utils.data import TensorDataset\n",
        "# Evaluation\n",
        "test_loss, test_acc, misclassified_images, misclassified_labels, misclassified_preds = evaluate(clean_model, filtered_test_loader, loss_fn, device)"
      ]
    },
    {
      "cell_type": "code",
      "execution_count": 47,
      "id": "3d5e1d14-2ef0-48ae-831d-6fa01bfab343",
      "metadata": {
        "id": "3d5e1d14-2ef0-48ae-831d-6fa01bfab343"
      },
      "outputs": [],
      "source": [
        "import math\n",
        "def analyze_for_misclassifications(misclassified_images, misclassified_labels, misclassified_preds):\n",
        "\n",
        "    MAX_IMAGES = 60\n",
        "\n",
        "    if len(misclassified_images) > 0:\n",
        "        misclassified_images = misclassified_images[0]\n",
        "        misclassified_labels = misclassified_labels[0]\n",
        "        misclassified_preds = misclassified_preds[0]\n",
        "\n",
        "        print(f\"Number misclassified: {len(misclassified_images)}\")\n",
        "\n",
        "        # Truncate more than MAX_IMAGES\n",
        "        images = misclassified_images[:MAX_IMAGES]\n",
        "        labels = misclassified_labels[:MAX_IMAGES]\n",
        "        preds = misclassified_preds[:MAX_IMAGES]\n",
        "\n",
        "\n",
        "        num_images = len(images)\n",
        "\n",
        "        fig = plt.figure(figsize=(6, num_images))\n",
        "\n",
        "        rows = math.ceil(num_images / 2)\n",
        "        cols = 2 if num_images > 16 else min(num_images, 2)\n",
        "\n",
        "        for i, (img, label, pred) in enumerate(zip(images, labels, preds)):\n",
        "\n",
        "            # Add subplot\n",
        "            ax = fig.add_subplot(rows, cols, i+1)\n",
        "\n",
        "            # Add empty dim if needed\n",
        "            if img.ndim == 2:\n",
        "                img = img[:,None,:,]\n",
        "\n",
        "            # Permute to HWC format for imshow\n",
        "            img = img.permute(1, 2, 0)\n",
        "\n",
        "            ax.imshow(img)\n",
        "            ax.set_title(f\"{label} -> {pred}\")\n",
        "            ax.axis(\"off\")\n",
        "\n",
        "        plt.tight_layout()\n",
        "        plt.show()\n",
        "\n",
        "    else:\n",
        "        print(\"No misclassified examples\")\n",
        "\n",
        "    return misclassified_images, misclassified_labels, misclassified_preds"
      ]
    },
    {
      "cell_type": "code",
      "execution_count": 48,
      "id": "b9fd9757-996f-45c1-a3d4-73516de83f01",
      "metadata": {
        "id": "b9fd9757-996f-45c1-a3d4-73516de83f01",
        "colab": {
          "base_uri": "https://localhost:8080/",
          "height": 52
        },
        "outputId": "2c8937a4-9d33-4efc-ad46-155cbd7ce0f9"
      },
      "outputs": [
        {
          "output_type": "stream",
          "name": "stdout",
          "text": [
            "Number misclassified: 0\n"
          ]
        },
        {
          "output_type": "display_data",
          "data": {
            "text/plain": [
              "<Figure size 600x0 with 0 Axes>"
            ]
          },
          "metadata": {}
        }
      ],
      "source": [
        "clean_misclassified_images, clean_misclassified_labels, clean_misclassified_preds = analyze_for_misclassifications(misclassified_images, misclassified_labels, misclassified_preds)"
      ]
    },
    {
      "cell_type": "code",
      "execution_count": 49,
      "id": "3cbab15a-728a-4fc2-ab4b-f6e54188cc25",
      "metadata": {
        "id": "3cbab15a-728a-4fc2-ab4b-f6e54188cc25"
      },
      "outputs": [],
      "source": [
        "model = clean_model\n",
        "# Define compounded attack\n",
        "def compounded_attack(choose_attack_option):\n",
        "    if choose_attack_option == \"fgsm_cw_attack\":\n",
        "        attack1 = torchattacks.FGSM(model, eps=0.3)\n",
        "        attack2 = torchattacks.CW(model, c=0.1, kappa=0.0, steps=1000)\n",
        "        attack = torchattacks.MultiAttack([attack1, attack2])\n",
        "    elif choose_attack_option == \"fgsm_pgd_attack\":\n",
        "        attack1 = torchattacks.FGSM(model, eps=0.3)\n",
        "        attack2 = torchattacks.PGD(model, eps=0.3, alpha=0.01, steps=5)\n",
        "        attack = torchattacks.MultiAttack([attack1, attack2])\n",
        "    elif choose_attack_option == \"cw_pgd_attack\":\n",
        "        attack1 = torchattacks.CW(model, c=0.1, kappa=0.0, steps=1000)\n",
        "        attack2 = torchattacks.PGD(model, eps=0.3, alpha=0.01, steps=5)\n",
        "        attack = torchattacks.MultiAttack([attack1, attack2])\n",
        "    elif choose_attack_option == \"pgd_bim_attack\":\n",
        "        attack1 = torchattacks.PGD(model, eps=0.3, alpha=0.01, steps=5)\n",
        "        attack2 = torchattacks.BIM(model, eps=8/255, alpha=2/255, steps=10)\n",
        "        attack = torchattacks.MultiAttack([attack1, attack2])\n",
        "    elif choose_attack_option == \"fgsm_bim_attack\":\n",
        "        attack1 = torchattacks.FGSM(model, eps=0.3)\n",
        "        attack2 = torchattacks.BIM(model, eps=8/255, alpha=2/255, steps=10)\n",
        "        attack = torchattacks.MultiAttack([attack1, attack2])\n",
        "    elif choose_attack_option == \"cw_bim_attack\":\n",
        "        attack1 = torchattacks.CW(model, c=0.1, kappa=0.0, steps=1000)\n",
        "        attack2 = torchattacks.BIM(model, eps=8/255, alpha=2/255, steps=10)\n",
        "        attack = torchattacks.MultiAttack([attack1, attack2])\n",
        "    elif choose_attack_option == \"pgd_deepfool_attack\":\n",
        "        attack1 = torchattacks.PGD(model, eps=0.3, alpha=0.01, steps=5)\n",
        "        attack2 = torchattacks.DeepFool(model, steps=50, overshoot=0.02)\n",
        "        attack = torchattacks.MultiAttack([attack1, attack2])\n",
        "    elif choose_attack_option == \"fgsm_deepfool_attack\":\n",
        "        attack1 = torchattacks.FGSM(model, eps=0.3)\n",
        "        attack2 = torchattacks.DeepFool(model, steps=50, overshoot=0.02)\n",
        "        attack = torchattacks.MultiAttack([attack1, attack2])\n",
        "    elif choose_attack_option == \"cw_deepfool_attack\":\n",
        "        attack1 = torchattacks.CW(model, c=0.1, kappa=0.0, steps=1000)\n",
        "        attack2 = torchattacks.DeepFool(model, steps=50, overshoot=0.02)\n",
        "        attack = torchattacks.MultiAttack([attack1, attack2])\n",
        "    elif choose_attack_option == \"bim_deepfool_attack\":\n",
        "        attack1 = torchattacks.BIM(model, eps=8/255, alpha=2/255, steps=10)\n",
        "        attack2 = torchattacks.DeepFool(model, steps=50, overshoot=0.02)\n",
        "        attack = torchattacks.MultiAttack([attack1, attack2])\n",
        "    else:\n",
        "        print(\"You did not chose any of the possible options or an you made an invalid option\")\n",
        "    return attack"
      ]
    },
    {
      "cell_type": "code",
      "execution_count": 50,
      "id": "11559bea-21a9-4806-b46c-b35e5706ac10",
      "metadata": {
        "id": "11559bea-21a9-4806-b46c-b35e5706ac10"
      },
      "outputs": [],
      "source": [
        "attack = compounded_attack(compounded_attack_name)"
      ]
    },
    {
      "cell_type": "code",
      "execution_count": 51,
      "id": "25bb76b8-c3ca-45b5-a5a5-804961d548d7",
      "metadata": {
        "id": "25bb76b8-c3ca-45b5-a5a5-804961d548d7"
      },
      "outputs": [],
      "source": [
        "import tqdm\n",
        "\n",
        "def perform_adv_attack(model, attack, data_loader):\n",
        "    adv_data = []\n",
        "    adv_labels = []\n",
        "    device = next(model.parameters()).device\n",
        "\n",
        "    total_batches = len(data_loader)\n",
        "    progress_bar = tqdm.tqdm(total=total_batches, unit='batch', desc='Adversarial Attack')\n",
        "\n",
        "    for x, y in data_loader:\n",
        "        x, y = x.to(device), y.to(device)\n",
        "\n",
        "        # Convert labels to long data type\n",
        "        y = y.long()\n",
        "\n",
        "        x_adv = attack(x, y)\n",
        "        adv_data.append(x_adv.detach())\n",
        "        adv_labels.append(y.detach())\n",
        "\n",
        "        progress_bar.update(1)\n",
        "\n",
        "    progress_bar.close()\n",
        "\n",
        "    adv_data = torch.cat(adv_data)\n",
        "    adv_labels = torch.cat(adv_labels)\n",
        "\n",
        "    # Move data back to CPU if necessary\n",
        "    if device != torch.device('cpu'):\n",
        "        adv_data = adv_data.to('cpu')\n",
        "        adv_labels = adv_labels.to('cpu')\n",
        "\n",
        "    # Create dataset and loader\n",
        "    adv_dataset = TensorDataset(adv_data, adv_labels)\n",
        "    adv_loader = DataLoader(adv_dataset, batch_size=64, shuffle=False)\n",
        "\n",
        "    return adv_loader"
      ]
    },
    {
      "cell_type": "code",
      "execution_count": 52,
      "id": "66c00ee0-efbe-4ea7-ab6b-ae46821c9c1f",
      "metadata": {
        "id": "66c00ee0-efbe-4ea7-ab6b-ae46821c9c1f",
        "colab": {
          "base_uri": "https://localhost:8080/"
        },
        "outputId": "19aa141e-c601-4415-b47f-521d30443c8c"
      },
      "outputs": [
        {
          "output_type": "stream",
          "name": "stderr",
          "text": [
            "Adversarial Attack: 100%|██████████| 140/140 [01:19<00:00,  1.76batch/s]\n"
          ]
        }
      ],
      "source": [
        "from torch.utils.data import TensorDataset\n",
        "# Adversarial attack\n",
        "adv_attack_loader = perform_adv_attack(clean_model, attack, filtered_test_loader)"
      ]
    },
    {
      "cell_type": "code",
      "source": [
        "def evaluate_adv_attack(model, data_loader, loss_fn, device):\n",
        "    attack_test_loss = 0\n",
        "    attack_test_accuracy = 0\n",
        "    num_misclassified = 0\n",
        "    model.eval()\n",
        "    misclassified_images = []\n",
        "    misclassified_labels = []\n",
        "    misclassified_preds = []\n",
        "\n",
        "    images, labels = next(iter(data_loader))\n",
        "    images, labels = images.to(device), labels.to(device)  # Move data to the specified device\n",
        "    num_clean_test_elements = len(images)\n",
        "    print(f\"Number of clean test images: {num_clean_test_elements}\")\n",
        "\n",
        "    # Create dataset\n",
        "    test_ds = TensorDataset(images, labels)\n",
        "    # Create loader\n",
        "    test_loader = DataLoader(test_ds, batch_size=64)\n",
        "    dataset_size = len(test_loader.dataset)\n",
        "\n",
        "    with torch.no_grad():\n",
        "        for i, (x, y) in enumerate(test_loader):\n",
        "            x, y = x.to(device), y.to(device)  # Move data to the specified device\n",
        "            logits = model(x)\n",
        "            batch_loss = loss_fn(logits, y)\n",
        "            attack_test_loss += batch_loss.item()\n",
        "            preds = torch.argmax(logits, dim=1)\n",
        "            attack_test_accuracy += torch.sum(preds == y).item() / len(y)\n",
        "            incorrect_inds = torch.where(preds != y)[0]\n",
        "            num_misclassified += len(incorrect_inds)\n",
        "            if len(incorrect_inds) > 0:\n",
        "                misclassified_images.append(x[incorrect_inds].cpu())  # Move data back to CPU\n",
        "                misclassified_labels.append(y[incorrect_inds].cpu())  # Move data back to CPU\n",
        "                misclassified_preds.append(preds[incorrect_inds].cpu())  # Move data back to CPU\n",
        "\n",
        "    num_misclassified = min(num_misclassified, dataset_size)\n",
        "    print(f\"Number of misclassified images: {num_misclassified} out of {dataset_size}\")\n",
        "    attack_test_loss /= len(test_loader)\n",
        "    attack_test_accuracy /= len(test_loader)\n",
        "    print(f\"Attack Test loss: {attack_test_loss:.4f}, Accuracy: {attack_test_accuracy:.2%}\")\n",
        "\n",
        "    # Handle empty lists\n",
        "    if len(misclassified_images) == 0:\n",
        "        misclassified_images.append(torch.tensor([]))\n",
        "    if len(misclassified_labels) == 0:\n",
        "        misclassified_labels.append(torch.tensor([]))\n",
        "    if len(misclassified_preds) == 0:\n",
        "        misclassified_preds.append(torch.tensor([]))\n",
        "\n",
        "    return attack_test_loss, attack_test_accuracy, [torch.cat(misclassified_images)], [torch.cat(misclassified_labels)], [torch.cat(misclassified_preds)]"
      ],
      "metadata": {
        "id": "XSFrI87gm4fT"
      },
      "id": "XSFrI87gm4fT",
      "execution_count": 53,
      "outputs": []
    },
    {
      "cell_type": "code",
      "execution_count": 54,
      "id": "50c206b9-3580-40c9-afc1-865bc3f72676",
      "metadata": {
        "id": "50c206b9-3580-40c9-afc1-865bc3f72676",
        "colab": {
          "base_uri": "https://localhost:8080/"
        },
        "outputId": "a5ce93c1-2590-4838-8d97-9003a592c4cd"
      },
      "outputs": [
        {
          "output_type": "stream",
          "name": "stdout",
          "text": [
            "Number of clean test images: 64\n",
            "Number of misclassified images: 2 out of 64\n",
            "Attack Test loss: 0.0482, Accuracy: 96.88%\n",
            "\n",
            "A few key ways to evaluate whether an adversarial attack on a machine learning model was successful:\n",
            "\n",
            "Drop in Model Accuracy: 20-40% drop in accuracy indicates the attack was effective.\n",
            "\n",
            "High Loss Value: A sharp spike in loss is another sign of a working attack.\n",
            "\n",
            "Misclassified Examplese: Images wrongly labeled indicates a successful targeted attack\n",
            "\n"
          ]
        }
      ],
      "source": [
        "# Evaluate attack\n",
        "clean_attack_test_loss, clean_attack_adv_test_accuracy, misclassified_images, misclassified_labels, misclassified_preds = evaluate_adv_attack(clean_model, adv_attack_loader, loss_fn, device)\n",
        "\n",
        "print(\"\\nA few key ways to evaluate whether an adversarial attack on a machine learning model was successful:\\n\")\n",
        "print(\"Drop in Model Accuracy: 20-40% drop in accuracy indicates the attack was effective.\\n\")\n",
        "print(\"High Loss Value: A sharp spike in loss is another sign of a working attack.\\n\")\n",
        "print(\"Misclassified Examplese: Images wrongly labeled indicates a successful targeted attack\\n\")\n"
      ]
    },
    {
      "cell_type": "code",
      "execution_count": 55,
      "id": "e0c41cbf-0201-4188-b62e-2d771d104738",
      "metadata": {
        "id": "e0c41cbf-0201-4188-b62e-2d771d104738",
        "colab": {
          "base_uri": "https://localhost:8080/",
          "height": 224
        },
        "outputId": "4b607ad8-894a-4b74-942a-4f3c8d4370f2"
      },
      "outputs": [
        {
          "output_type": "stream",
          "name": "stdout",
          "text": [
            "Number misclassified: 2\n"
          ]
        },
        {
          "output_type": "display_data",
          "data": {
            "text/plain": [
              "<Figure size 600x200 with 2 Axes>"
            ],
            "image/png": "[encoded data removed]"
          },
          "metadata": {}
        }
      ],
      "source": [
        "adv_misclassified_images, adv_misclassified_labels, adv_misclassified_preds = analyze_for_misclassifications(misclassified_images, misclassified_labels, misclassified_preds)"
      ]
    },
    {
      "cell_type": "code",
      "execution_count": 56,
      "id": "065a9a4b-f936-4dde-b9c1-1b483974fd60",
      "metadata": {
        "id": "065a9a4b-f936-4dde-b9c1-1b483974fd60"
      },
      "outputs": [],
      "source": [
        "# Generate adversarial dataset\n",
        "import torch\n",
        "import tqdm\n",
        "from torch.utils.data import DataLoader, TensorDataset\n",
        "\n",
        "def generate_adversarial_dataset(model, attack, data_loader, device, num_samples):\n",
        "    adv_data = []\n",
        "    adv_labels = []\n",
        "    device = next(model.parameters()).device\n",
        "\n",
        "    num_generated = 0\n",
        "    progress_bar = tqdm.tqdm(total=num_samples, unit='sample', desc='Adversarial Attack')\n",
        "\n",
        "    for x, y in data_loader:\n",
        "        x, y = x.to(device), y.to(device)\n",
        "        y = y.long()\n",
        "\n",
        "        x_adv = attack(x, y)\n",
        "\n",
        "        with torch.no_grad():\n",
        "            orig_preds = model(x).argmax(1)\n",
        "            adv_preds = model(x_adv).argmax(1)\n",
        "\n",
        "        # Filter samples where original prediction is different from adversarial prediction\n",
        "        mask = orig_preds != adv_preds\n",
        "        x_adv_filtered = x_adv[mask]\n",
        "        y_filtered = y[mask]\n",
        "\n",
        "        # Append only the required number of samples\n",
        "        num_remaining = num_samples - num_generated\n",
        "        if num_remaining > 0:\n",
        "            if num_remaining >= len(x_adv_filtered):\n",
        "                adv_data.append(x_adv_filtered.detach())\n",
        "                adv_labels.append(y_filtered.detach())\n",
        "                num_generated += len(x_adv_filtered)\n",
        "                progress_bar.update(len(x_adv_filtered))\n",
        "            else:\n",
        "                adv_data.append(x_adv_filtered[:num_remaining].detach())\n",
        "                adv_labels.append(y_filtered[:num_remaining].detach())\n",
        "                num_generated = num_samples\n",
        "                progress_bar.update(num_remaining)\n",
        "                break\n",
        "\n",
        "        if num_generated >= num_samples:\n",
        "            break\n",
        "\n",
        "    progress_bar.close()\n",
        "\n",
        "    if len(adv_data) > 0:\n",
        "        adv_data = torch.cat(adv_data)\n",
        "        adv_labels = torch.cat(adv_labels)\n",
        "\n",
        "        if device != torch.device('cpu'):\n",
        "            adv_data = adv_data.to('cpu')\n",
        "            adv_labels = adv_labels.to('cpu')\n",
        "\n",
        "        adv_dataset = TensorDataset(adv_data, adv_labels)\n",
        "\n",
        "        if num_generated < num_samples:\n",
        "            print(f\"Warning: Could not generate {num_samples} unique adversarial examples.\")\n",
        "            print(f\"Returning {num_generated} unique adversarial examples.\")\n",
        "    else:\n",
        "        adv_dataset = None\n",
        "        print(\"Warning: No unique adversarial examples found.\")\n",
        "\n",
        "    return adv_dataset"
      ]
    },
    {
      "cell_type": "code",
      "execution_count": 57,
      "id": "QN2lLX_vnc9d",
      "metadata": {
        "id": "QN2lLX_vnc9d",
        "colab": {
          "base_uri": "https://localhost:8080/"
        },
        "outputId": "0f2d5b23-d897-4cac-ee6d-f4e22fc57865"
      },
      "outputs": [
        {
          "output_type": "stream",
          "name": "stdout",
          "text": [
            "MNIST\n",
            "Number of batches in the filtered test set: 140\n",
            "Number of images in the filtered test set: 8984\n"
          ]
        }
      ],
      "source": [
        "print(dataset_name)\n",
        "\n",
        "filtered_test_loader = DataLoader(filtered_test_set, batch_size=64)\n",
        "\n",
        "# Print the number of batches in the data loaders\n",
        "print(\"Number of batches in the filtered test set:\", len(filtered_test_loader))\n",
        "\n",
        "# Calculate the size of the filtered test set\n",
        "test_set_size = len(filtered_test_loader) * filtered_test_loader.batch_size\n",
        "if len(filtered_test_set) % filtered_test_loader.batch_size != 0:\n",
        "    test_set_size += len(filtered_test_set) % filtered_test_loader.batch_size\n",
        "\n",
        "# Print the sizes of the filtered sets\n",
        "print(\"Number of images in the filtered test set:\", test_set_size)\n"
      ]
    },
    {
      "cell_type": "markdown",
      "source": [
        "The number of adversarial images used for training as a defense against adversarial attacks on a model follow general guidelines and considerations:\n",
        "\n",
        "Balanced dataset: It is generally recommended to have a balanced dataset, where the number of adversarial examples is similar to the number of clean examples. This helps the model learn to distinguish between clean and adversarial examples effectively.\n",
        "\n",
        "Percentage of adversarial examples: A common practice is to include a certain percentage of adversarial examples in the training set. The percentage can range from 10% to 50% of the total training examples, depending on the specific requirements and the sensitivity of the application.\n",
        "\n",
        "Iterative training: Instead of training with a fixed number of adversarial examples, an iterative approach can be employed. Start with a smaller percentage of adversarial examples and gradually increase the proportion over multiple training iterations. This allows the model to adapt and improve its robustness incrementally.\n",
        "\n",
        "Diversity of adversarial examples: It is important to generate adversarial examples using different attack methods and parameters to expose the model to a wide range of adversarial perturbations. This helps the model learn to defend against various types of attacks.\n",
        "\n",
        "Validation and testing: It is crucial to evaluate the model's performance on a separate validation set containing both clean and adversarial examples. This helps assess the model's robustness and generalization ability. The test set should also include a mix of clean and adversarial examples to measure the model's performance in real-world scenarios.\n",
        "\n",
        "Computational resources: Generating and training with a large number of adversarial examples can be computationally expensive. Consider the available computational resources and time constraints when determining the number of adversarial examples to include in the training process."
      ],
      "metadata": {
        "id": "joYwXloRI_l0"
      },
      "id": "joYwXloRI_l0"
    },
    {
      "cell_type": "code",
      "source": [
        "global num_of_adv_examples\n",
        "num_of_adv_examples = int(0.5 * len(filtered_train_set))\n",
        "print(\"Number of adversarial examples created:\", num_of_adv_examples)"
      ],
      "metadata": {
        "colab": {
          "base_uri": "https://localhost:8080/"
        },
        "id": "URq89jR-I7hH",
        "outputId": "bc56ce8b-d1a9-4146-8b03-e0f1eb8c011b"
      },
      "id": "URq89jR-I7hH",
      "execution_count": 58,
      "outputs": [
        {
          "output_type": "stream",
          "name": "stdout",
          "text": [
            "Number of adversarial examples created: 27105\n"
          ]
        }
      ]
    },
    {
      "cell_type": "code",
      "source": [
        "adv_dataset = generate_adversarial_dataset(model, attack, filtered_train_loader, device, num_of_adv_examples)"
      ],
      "metadata": {
        "colab": {
          "base_uri": "https://localhost:8080/"
        },
        "id": "kshgrJLyDbr-",
        "outputId": "c78e447b-66bf-4f49-f287-b73069d92197"
      },
      "id": "kshgrJLyDbr-",
      "execution_count": 59,
      "outputs": [
        {
          "output_type": "stream",
          "name": "stderr",
          "text": [
            "Adversarial Attack:  41%|████      | 11120/27105 [08:06<11:39, 22.86sample/s]"
          ]
        },
        {
          "output_type": "stream",
          "name": "stdout",
          "text": [
            "Warning: Could not generate 27105 unique adversarial examples.\n",
            "Returning 11120 unique adversarial examples.\n"
          ]
        },
        {
          "output_type": "stream",
          "name": "stderr",
          "text": [
            "\n"
          ]
        }
      ]
    },
    {
      "cell_type": "code",
      "execution_count": 60,
      "id": "4c97dc22-32d7-451b-8a41-9bc190b40854",
      "metadata": {
        "id": "4c97dc22-32d7-451b-8a41-9bc190b40854"
      },
      "outputs": [],
      "source": [
        "# Print adversarial images\n",
        "def plot_adversarial_images(adv_dataset, model, max_images=60):\n",
        "    adv_loader = DataLoader(adv_dataset, batch_size=len(adv_dataset))\n",
        "    images, labels = next(iter(adv_loader))\n",
        "\n",
        "    # Move the input tensors to the same device as the model\n",
        "    device = next(model.parameters()).device\n",
        "    images = images.to(device)\n",
        "\n",
        "    preds = model(images)\n",
        "\n",
        "    fig = plt.figure(figsize=(6, 6))\n",
        "    for i in range(6):\n",
        "        ax = fig.add_subplot(2, 3, i+1)\n",
        "        img = images[i].cpu().squeeze()  # Move the image back to CPU for visualization\n",
        "        ax.imshow(img, cmap='gray')\n",
        "        orig = labels[i].item()\n",
        "        pred = preds[i].argmax().item()\n",
        "        ax.set_title(f\"{orig}->{pred}\")\n",
        "        ax.axis('off')\n",
        "    plt.tight_layout()\n",
        "    plt.show()"
      ]
    },
    {
      "cell_type": "code",
      "source": [
        "plot_adversarial_images(adv_dataset, model)\n"
      ],
      "metadata": {
        "colab": {
          "base_uri": "https://localhost:8080/",
          "height": 506
        },
        "id": "sIXBupxFLR1Z",
        "outputId": "6441c494-d234-4d5d-f30e-911a884ecf8c"
      },
      "id": "sIXBupxFLR1Z",
      "execution_count": 61,
      "outputs": [
        {
          "output_type": "display_data",
          "data": {
            "text/plain": [
              "<Figure size 600x600 with 6 Axes>"
            ],
            "image/png": "[encoded data removed]"
          },
          "metadata": {}
        }
      ]
    },
    {
      "cell_type": "code",
      "execution_count": 62,
      "id": "897f815c-f091-46c1-a30d-0413c365eb70",
      "metadata": {
        "id": "897f815c-f091-46c1-a30d-0413c365eb70",
        "colab": {
          "base_uri": "https://localhost:8080/"
        },
        "outputId": "6543cca4-8691-4bea-fa91-2f3b1fa4f8d8"
      },
      "outputs": [
        {
          "output_type": "stream",
          "name": "stdout",
          "text": [
            "Number of adversarial images: 11120\n",
            "Number of batches (with batch size 128): 86\n"
          ]
        }
      ],
      "source": [
        "from torch.utils.data import DataLoader, TensorDataset\n",
        "\n",
        "# Adversarial training\n",
        "# Create adversarial dataset\n",
        "adv_loader = DataLoader(adv_dataset, batch_size=len(adv_dataset))\n",
        "adv_images, adv_labels = next(iter(adv_loader))\n",
        "\n",
        "adv_ds = TensorDataset(adv_images, adv_labels)\n",
        "adv_batch_size = 128\n",
        "num_adv_batches = len(adv_ds) // adv_batch_size\n",
        "num_adv_images = len(adv_ds)\n",
        "\n",
        "print(f\"Number of adversarial images: {num_adv_images}\")\n",
        "print(f\"Number of batches (with batch size {adv_batch_size}): {num_adv_batches}\")"
      ]
    },
    {
      "cell_type": "code",
      "execution_count": 63,
      "id": "ce797f73-d153-4f46-a98b-5ff1a4eb2fb2",
      "metadata": {
        "id": "ce797f73-d153-4f46-a98b-5ff1a4eb2fb2",
        "colab": {
          "base_uri": "https://localhost:8080/"
        },
        "outputId": "3ae5fc30-bd53-411c-b309-6e0bee9b4e7f"
      },
      "outputs": [
        {
          "output_type": "stream",
          "name": "stdout",
          "text": [
            "Number of clean images in training set: 54210\n",
            "Number of batches (with batch size 128): 423\n"
          ]
        }
      ],
      "source": [
        "# Filtered training set\n",
        "filtered_train_set, filtered_test_set = filtered_dataset(train_set, test_set, filtered=1)\n",
        "clean_loader = DataLoader(filtered_train_set, batch_size=len(filtered_train_set))\n",
        "clean_images, clean_labels = next(iter(clean_loader))\n",
        "clean_ds = TensorDataset(clean_images, clean_labels)\n",
        "clean_batch_size = 128\n",
        "num_clean_batches = len(clean_ds) // clean_batch_size\n",
        "num_clean_images = len(clean_ds)\n",
        "\n",
        "# Clean images\n",
        "# Print the number of images in the filtered training set\n",
        "print(\"Number of clean images in training set:\", num_clean_images)\n",
        "print(f\"Number of batches (with batch size {clean_batch_size}): {num_clean_batches}\")"
      ]
    },
    {
      "cell_type": "code",
      "source": [
        "# Combine into one dataset\n",
        "combined_tensors = (torch.cat((adv_images, clean_images)), torch.cat((adv_labels, clean_labels)))\n",
        "combined_tensor_dataset = TensorDataset(*combined_tensors)\n",
        "\n",
        "combined_batch_size = 128\n",
        "num_combined_batches = len(combined_tensor_dataset) // combined_batch_size\n",
        "num_combined_images = len(combined_tensor_dataset)\n",
        "\n",
        "# Create combined data loader\n",
        "combineloader = DataLoader(combined_tensor_dataset, batch_size=128,\n",
        "                                 shuffle=True, num_workers=4)"
      ],
      "metadata": {
        "id": "Ex2DnIp0dTeq"
      },
      "id": "Ex2DnIp0dTeq",
      "execution_count": 64,
      "outputs": []
    },
    {
      "cell_type": "code",
      "execution_count": 65,
      "id": "4b31cf9f-cc7e-4141-bf4e-68a66e966182",
      "metadata": {
        "id": "4b31cf9f-cc7e-4141-bf4e-68a66e966182",
        "colab": {
          "base_uri": "https://localhost:8080/"
        },
        "outputId": "b191460a-5849-4c3f-de79-5275937afe6f"
      },
      "outputs": [
        {
          "output_type": "stream",
          "name": "stdout",
          "text": [
            "Number of combined images: 65330\n",
            "Number of batches in combined loader: 510\n"
          ]
        }
      ],
      "source": [
        "# Combined images\n",
        "print(f\"Number of combined images: {num_combined_images}\")\n",
        "print(f\"Number of batches in combined loader: {num_combined_batches}\")"
      ]
    },
    {
      "cell_type": "markdown",
      "source": [
        "Randomization defense techniques involve applying random transformations to the input data during training to increase the model's robustness against adversarial attacks. The key idea behind randomization defense is to introduce random variations in the input data, making it harder for adversarial perturbations to have a consistent effect on the model's predictions.\n",
        "The implemented randomization defense methods work as follows:\n",
        "\n",
        "Random Resizing: The input images are randomly resized within a specified scale range. This introduces variations in the spatial dimensions of the images, making the model more resilient to size-related adversarial perturbations.\n",
        "\n",
        "Random Cropping: A random smaller region is cropped from the input images. This helps the model learn to focus on different parts of the image and reduces its sensitivity to specific pixel locations.\n",
        "Random Rotation: The input images are randomly rotated within a specified angle range. This helps the model become invariant to rotational changes and enhances its ability to recognize objects from different orientations.\n",
        "\n",
        "Combined Randomization: Multiple randomization techniques, including resizing, cropping, rotation, color jittering, random erasing, and noise injection, are applied together. This creates a diverse set of input variations, making it challenging for adversarial perturbations to have a consistent impact."
      ],
      "metadata": {
        "id": "kK4ERySgxbIp"
      },
      "id": "kK4ERySgxbIp"
    },
    {
      "cell_type": "code",
      "source": [
        "def apply_randomization_defense(dataset, randomization_defense):\n",
        "    if randomization_defense == \"random_resizing\":\n",
        "        transform = transforms.Compose([\n",
        "            transforms.RandomResizedCrop(size=(28, 28), scale=(0.7, 1.3)),\n",
        "            transforms.ToTensor()\n",
        "        ])\n",
        "    elif randomization_defense == \"random_cropping\":\n",
        "        transform = transforms.Compose([\n",
        "            transforms.RandomCrop(size=(20, 20)),\n",
        "            transforms.Resize(size=(28, 28)),\n",
        "            transforms.ToTensor()\n",
        "        ])\n",
        "    elif randomization_defense == \"random_rotation\":\n",
        "        transform = transforms.Compose([\n",
        "            transforms.RandomRotation(degrees=(-30, 30)),\n",
        "            transforms.ToTensor()\n",
        "        ])\n",
        "    elif randomization_defense == \"combined_randomization\":\n",
        "        transform = transforms.Compose([\n",
        "            transforms.RandomResizedCrop(size=(28, 28), scale=(0.7, 1.3)),\n",
        "            transforms.RandomCrop(size=(20, 20)),\n",
        "            transforms.Resize(size=(28, 28)),\n",
        "            transforms.RandomRotation(degrees=(-30, 30)),\n",
        "            transforms.ColorJitter(brightness=0.2, contrast=0.2, saturation=0.2, hue=0.2),\n",
        "            transforms.RandomErasing(p=0.3, scale=(0.02, 0.1), ratio=(0.3, 3.3)),\n",
        "            transforms.ToTensor(),\n",
        "            transforms.Lambda(lambda x: x + 0.05 * torch.randn_like(x))\n",
        "        ])\n",
        "    else:\n",
        "        transform = transforms.ToTensor()\n",
        "\n",
        "    dataset.transform = transform\n",
        "    return dataset"
      ],
      "metadata": {
        "id": "npYludy3V5qS"
      },
      "id": "npYludy3V5qS",
      "execution_count": 66,
      "outputs": []
    },
    {
      "cell_type": "code",
      "execution_count": 67,
      "id": "06331625-3cb7-47f1-bd95-b25240b2eb4f",
      "metadata": {
        "id": "06331625-3cb7-47f1-bd95-b25240b2eb4f"
      },
      "outputs": [],
      "source": [
        "def save_retrained_model(model, save_dir):\n",
        "\n",
        "    if not os.path.exists(save_dir):\n",
        "        os.makedirs(save_dir)\n",
        "\n",
        "    model_path = f\"{save_dir}/retrained_model.pth\"\n",
        "\n",
        "    torch.save(model.state_dict(), model_path)\n",
        "    #print(f\"Saved retrained_model state dict to {model_path}\")"
      ]
    },
    {
      "cell_type": "markdown",
      "source": [
        "Input Transformation\n",
        "Input transformation is a defense technique that aims to preprocess the input data before feeding it into the model. The goal is to make the input more robust and less susceptible to adversarial perturbations. This project implements three input transformation approaches:\n",
        "\n",
        "Image Quilting: This technique involves dividing the input image into smaller patches and randomly replacing some of the patches with patches from clean images. The idea is to introduce randomness and break up the adversarial patterns.\n",
        "\n",
        "Adversarial Logit Pairing: In this approach, adversarial examples are generated using the Fast Gradient Sign Method (FGSM), and the model is trained to minimize the difference between the logits (pre-softmax outputs) of clean examples and their corresponding adversarial examples. This encourages the model to have similar predictions for clean and adversarial inputs.\n",
        "\n",
        "Differential Privacy: Differential privacy is a technique that adds controlled noise to the input data to protect the privacy of individual examples. In the context of adversarial defense, adding noise can help mitigate the impact of adversarial perturbations by making them less effective.\n"
      ],
      "metadata": {
        "id": "-Fv652qEWF70"
      },
      "id": "-Fv652qEWF70"
    },
    {
      "cell_type": "code",
      "source": [
        "class TransformedDataset(torch.utils.data.Dataset):\n",
        "    def __init__(self, dataset, transform):\n",
        "        self.dataset = dataset\n",
        "        self.transform = transform\n",
        "\n",
        "    def __getitem__(self, index):\n",
        "        x, y = self.dataset[index]\n",
        "        x = self.transform(x)\n",
        "        return x, y\n",
        "\n",
        "    def __len__(self):\n",
        "        return len(self.dataset)"
      ],
      "metadata": {
        "id": "lz-W5L_VGt7N"
      },
      "id": "lz-W5L_VGt7N",
      "execution_count": 68,
      "outputs": []
    },
    {
      "cell_type": "code",
      "source": [
        "from skimage.util import view_as_windows\n",
        "def apply_image_quilting(images, patch_size=8):\n",
        "    # Convert images to numpy array\n",
        "    images_np = images.numpy()\n",
        "\n",
        "    # Reshape images to have three dimensions (batch size, height, width)\n",
        "    images_np = images_np.reshape(images_np.shape[0], 28, 28)\n",
        "\n",
        "    # Extract patches from the images\n",
        "    patches = view_as_windows(images_np, (1, patch_size, patch_size), step=patch_size)\n",
        "    patches = patches.reshape((-1, 1, patch_size, patch_size))\n",
        "\n",
        "    # Randomly select and replace patches\n",
        "    num_patches = patches.shape[0]\n",
        "    random_indices = np.random.choice(num_patches, size=num_patches, replace=True)\n",
        "    quilted_patches = patches[random_indices]\n",
        "\n",
        "    # Reconstruct the quilted images\n",
        "    num_images = images_np.shape[0]\n",
        "    quilted_images_np = np.empty_like(images_np)\n",
        "    for i in range(num_images):\n",
        "        quilted_images_np[i] = reconstruct_image(quilted_patches[i * num_patches // num_images: (i + 1) * num_patches // num_images], patch_size, images_np.shape[1:])\n",
        "\n",
        "    # Convert quilted images back to tensor\n",
        "    quilted_images = torch.from_numpy(quilted_images_np)\n",
        "\n",
        "    return quilted_images"
      ],
      "metadata": {
        "id": "n6QuoXxHJVcz"
      },
      "id": "n6QuoXxHJVcz",
      "execution_count": 69,
      "outputs": []
    },
    {
      "cell_type": "code",
      "source": [
        "def reconstruct_image(patches, patch_size, image_size):\n",
        "    num_patches_per_dim = (image_size[0] + patch_size - 1) // patch_size\n",
        "    reconstructed_image = np.zeros((1, image_size[0], image_size[1]))\n",
        "\n",
        "    for i in range(num_patches_per_dim):\n",
        "        for j in range(num_patches_per_dim):\n",
        "            patch_index = i * num_patches_per_dim + j\n",
        "            if patch_index < patches.shape[0]:\n",
        "                patch = patches[patch_index]\n",
        "                start_i = i * patch_size\n",
        "                end_i = min(start_i + patch_size, image_size[0])\n",
        "                start_j = j * patch_size\n",
        "                end_j = min(start_j + patch_size, image_size[1])\n",
        "                reconstructed_image[0, start_i:end_i, start_j:end_j] = patch[0, :end_i-start_i, :end_j-start_j]\n",
        "\n",
        "    return reconstructed_image"
      ],
      "metadata": {
        "id": "vNQzgRTeJa7m"
      },
      "id": "vNQzgRTeJa7m",
      "execution_count": 70,
      "outputs": []
    },
    {
      "cell_type": "code",
      "source": [
        "def apply_adversarial_logit_pairing(model, images, epsilon=0.1):\n",
        "    # Get the device of the model\n",
        "    device = next(model.parameters()).device\n",
        "\n",
        "    # Move the images to the same device as the model\n",
        "    images = images.to(device)\n",
        "\n",
        "    # Get the labels of the images\n",
        "    with torch.no_grad():\n",
        "        labels = model(images).argmax(dim=1)\n",
        "\n",
        "    # Generate adversarial examples\n",
        "    images.requires_grad = True\n",
        "    logits = model(images)\n",
        "    loss = F.cross_entropy(logits, labels)\n",
        "    model.zero_grad()\n",
        "    loss.backward()\n",
        "    grad = images.grad.data\n",
        "    adversarial_images = images + epsilon * grad.sign()\n",
        "    adversarial_images = torch.clamp(adversarial_images, 0, 1)\n",
        "\n",
        "    # Perform adversarial logit pairing\n",
        "    logits_clean = model(images)\n",
        "    logits_adv = model(adversarial_images)\n",
        "    loss_pairing = F.mse_loss(logits_adv, logits_clean)\n",
        "    model.zero_grad()\n",
        "    loss_pairing.backward()\n",
        "\n",
        "    return adversarial_images.detach()"
      ],
      "metadata": {
        "id": "Zp0st_bIJdsa"
      },
      "id": "Zp0st_bIJdsa",
      "execution_count": 71,
      "outputs": []
    },
    {
      "cell_type": "code",
      "source": [
        "def apply_differential_privacy(images, epsilon=1.0, sensitivity=1.0):\n",
        "    # Add Gaussian noise to the images\n",
        "    scale = sensitivity * np.sqrt(2 * np.log(1.25 / 0.01)) / epsilon\n",
        "    noise = torch.normal(0, scale, images.shape)\n",
        "    dp_images = images + noise\n",
        "    dp_images = torch.clamp(dp_images, 0, 1)\n",
        "\n",
        "    return dp_images"
      ],
      "metadata": {
        "id": "tonAAP0UJg42"
      },
      "id": "tonAAP0UJg42",
      "execution_count": 72,
      "outputs": []
    },
    {
      "cell_type": "code",
      "source": [
        "def apply_combined_input_transformation(model, images, labels, patch_size=8, epsilon_alp=0.1, epsilon_dp=1.0):\n",
        "    quilted_images = apply_image_quilting(images, patch_size)\n",
        "    paired_images = apply_adversarial_logit_pairing(model, quilted_images, labels, epsilon=epsilon_alp)\n",
        "    transformed_images = apply_differential_privacy(paired_images, epsilon=epsilon_dp)\n",
        "    return transformed_images"
      ],
      "metadata": {
        "id": "Mfahnny_JjOE"
      },
      "id": "Mfahnny_JjOE",
      "execution_count": 73,
      "outputs": []
    },
    {
      "cell_type": "code",
      "source": [
        "import multiprocessing"
      ],
      "metadata": {
        "id": "kjemLYNZQEv0"
      },
      "id": "kjemLYNZQEv0",
      "execution_count": 74,
      "outputs": []
    },
    {
      "cell_type": "code",
      "execution_count": 75,
      "id": "cb914981-f164-42f4-a7cb-17e77311d06b",
      "metadata": {
        "id": "cb914981-f164-42f4-a7cb-17e77311d06b"
      },
      "outputs": [],
      "source": [
        "from torch.utils.data import ConcatDataset\n",
        "def adversarial_retraining(model, combined_loader, optimizer, loss_fn, num_epochs, device, defense_type, randomization_defense,input_transformation,\n",
        "                           batch_size=128, learning_rate=0.001, weight_decay=0.0001,\n",
        "                           print_images_per_epoch=1):\n",
        "\n",
        "  # Move the model to the specified device\n",
        "  model.to(device)\n",
        "\n",
        "  # Initialize trainable parameters (if needed, adjust based on your quantum circuit)\n",
        "  theta = torch.randn(1, requires_grad=True, device=device)\n",
        "  phi = torch.randn(1, requires_grad=True, device=device)\n",
        "\n",
        "  # Adjust learning rate and weight decay\n",
        "  for param_group in optimizer.param_groups:\n",
        "    param_group['lr'] = learning_rate\n",
        "    param_group['weight_decay'] = weight_decay\n",
        "\n",
        "  train_losses = []\n",
        "  train_accuracies = []\n",
        "\n",
        "  if defense_type == \"randomization\":\n",
        "    # Apply the selected randomization defense to the clean dataset\n",
        "    clean_dataset = clean_loader.dataset\n",
        "    randomized_dataset = apply_randomization_defense(clean_dataset, randomization_defense)\n",
        "    combined_dataset = ConcatDataset([clean_dataset, randomized_dataset])\n",
        "    combined_loader = DataLoader(combined_dataset, batch_size=batch_size, shuffle=True, num_workers=4)\n",
        "\n",
        "    if defense_type == \"input_transformation\":\n",
        "        # Apply the selected input transformation technique to the clean dataset\n",
        "        clean_dataset = clean_loader.dataset\n",
        "\n",
        "        if input_transformation == \"image_quilting\":\n",
        "            transformed_dataset = TransformedDataset(clean_dataset, transforms.Lambda(lambda x: apply_image_quilting(x)))\n",
        "        elif input_transformation == \"adversarial_logit_pairing\":\n",
        "            transformed_dataset = TransformedDataset(clean_dataset, transforms.Lambda(lambda x: apply_adversarial_logit_pairing(model, x)))\n",
        "        elif input_transformation == \"differential_privacy\":\n",
        "            transformed_dataset = TransformedDataset(clean_dataset, transforms.Lambda(lambda x: apply_differential_privacy(x)))\n",
        "        elif input_transformation == \"combined_input_transformation\":\n",
        "            transformed_dataset = TransformedDataset(clean_dataset, transforms.Lambda(lambda x: apply_combined_input_transformation(model, x, labels)))\n",
        "\n",
        "        combined_dataset = ConcatDataset([clean_dataset, transformed_dataset])\n",
        "\n",
        "        # Set the start method to 'spawn'\n",
        "        multiprocessing.set_start_method('spawn', force=True)\n",
        "\n",
        "        # Create the dataloader with 'spawn' start method\n",
        "        combined_loader = DataLoader(combined_dataset, batch_size=batch_size, shuffle=True, num_workers=4, multiprocessing_context='spawn')\n",
        "\n",
        "  if defense_type == \"adversarial_training\":\n",
        "    combined_loader = combined_loader\n",
        "\n",
        "  # Training loop\n",
        "  for epoch in range(num_epochs):\n",
        "    print(f\"Epoch {epoch+1}/{num_epochs}\")\n",
        "\n",
        "    model.train()\n",
        "    train_loss = 0.0\n",
        "    train_correct = 0\n",
        "    train_total = 0\n",
        "\n",
        "    # Track modified data\n",
        "    retrained_imgs = []\n",
        "    retrained_labels = []\n",
        "\n",
        "    # Iterate through all batches in the data loader\n",
        "    for i, (imgs, labels) in enumerate(combined_loader):\n",
        "      # Forward pass through hybrid model\n",
        "      hybrid_output = model(imgs)\n",
        "\n",
        "      # Calculate loss, backpropagate, and update parameters\n",
        "      loss = loss_fn(hybrid_output, labels.to(device))\n",
        "      optimizer.zero_grad()\n",
        "      loss.backward()\n",
        "      optimizer.step()\n",
        "\n",
        "      train_loss += loss.item()\n",
        "      _, predicted = torch.max(hybrid_output.data, 1)\n",
        "      train_total += labels.size(0)\n",
        "      train_correct += (predicted == labels.to(device)).sum().item()\n",
        "\n",
        "      # Print images for the first \"print_images_per_epoch\" iterations\n",
        "      if i < print_images_per_epoch:\n",
        "        print_images(imgs.cpu(), labels.cpu(), hybrid_output.cpu(), n=3)\n",
        "\n",
        "      # Here, you might modify \"imgs\" or \"labels\" based on your training logic\n",
        "      # to represent the \"retrained\" version (example: add noise)\n",
        "      retrained_imgs.append(imgs + 0.1 * torch.randn(imgs.size()))  # Example: Add noise\n",
        "      retrained_labels.append(labels)\n",
        "\n",
        "    # Calculate and print epoch statistics\n",
        "    train_loss /= len(combined_loader)\n",
        "    train_acc = train_correct / train_total\n",
        "    print(f\"Train Loss: {train_loss:.4f}, Train Accuracy: {train_acc:.4f}\")\n",
        "\n",
        "    train_losses.append(train_loss)\n",
        "    train_accuracies.append(train_acc)\n",
        "\n",
        "  # Plot accuracy and loss curves (if needed)\n",
        "  plot_accuracy_loss(train_accuracies, train_losses)\n",
        "\n",
        "  # Save the retrained model (optional)\n",
        "  save_retrained_model(model, save_dir)\n",
        "\n",
        "  # Create a new dataset from collected data\n",
        "  retrained_dataset = TensorDataset(torch.cat(retrained_imgs), torch.cat(retrained_labels))\n",
        "\n",
        "  return retrained_dataset"
      ]
    },
    {
      "cell_type": "code",
      "execution_count": 76,
      "id": "502cbe2b-7413-40d1-8b68-9006ceb8159d",
      "metadata": {
        "id": "502cbe2b-7413-40d1-8b68-9006ceb8159d",
        "colab": {
          "base_uri": "https://localhost:8080/",
          "height": 1000
        },
        "outputId": "79b79ce5-cc17-440c-b23c-952aed870f3c"
      },
      "outputs": [
        {
          "output_type": "stream",
          "name": "stdout",
          "text": [
            "Epoch 1/10\n"
          ]
        },
        {
          "output_type": "display_data",
          "data": {
            "text/plain": [
              "<Figure size 600x600 with 3 Axes>"
            ],
            "image/png": "[encoded data removed]"
          },
          "metadata": {}
        },
        {
          "output_type": "stream",
          "name": "stdout",
          "text": [
            "Train Loss: 0.0280, Train Accuracy: 0.9914\n",
            "Epoch 2/10\n"
          ]
        },
        {
          "output_type": "display_data",
          "data": {
            "text/plain": [
              "<Figure size 600x600 with 3 Axes>"
            ],
            "image/png": "[encoded data removed]"
          },
          "metadata": {}
        },
        {
          "output_type": "stream",
          "name": "stdout",
          "text": [
            "Train Loss: 0.0259, Train Accuracy: 0.9923\n",
            "Epoch 3/10\n"
          ]
        },
        {
          "output_type": "display_data",
          "data": {
            "text/plain": [
              "<Figure size 600x600 with 3 Axes>"
            ],
            "image/png": "[encoded data removed]"
          },
          "metadata": {}
        },
        {
          "output_type": "stream",
          "name": "stdout",
          "text": [
            "Train Loss: 0.0228, Train Accuracy: 0.9929\n",
            "Epoch 4/10\n"
          ]
        },
        {
          "output_type": "display_data",
          "data": {
            "text/plain": [
              "<Figure size 600x600 with 3 Axes>"
            ],
            "image/png": "[encoded data removed]"
          },
          "metadata": {}
        },
        {
          "output_type": "stream",
          "name": "stdout",
          "text": [
            "Train Loss: 0.0214, Train Accuracy: 0.9931\n",
            "Epoch 5/10\n"
          ]
        },
        {
          "output_type": "display_data",
          "data": {
            "text/plain": [
              "<Figure size 600x600 with 3 Axes>"
            ],
            "image/png": "[encoded data removed]"
          },
          "metadata": {}
        },
        {
          "output_type": "stream",
          "name": "stdout",
          "text": [
            "Train Loss: 0.0191, Train Accuracy: 0.9941\n",
            "Epoch 6/10\n"
          ]
        },
        {
          "output_type": "display_data",
          "data": {
            "text/plain": [
              "<Figure size 600x600 with 3 Axes>"
            ],
            "image/png": "[encoded data removed]"
          },
          "metadata": {}
        },
        {
          "output_type": "stream",
          "name": "stdout",
          "text": [
            "Train Loss: 0.0174, Train Accuracy: 0.9945\n",
            "Epoch 7/10\n"
          ]
        },
        {
          "output_type": "display_data",
          "data": {
            "text/plain": [
              "<Figure size 600x600 with 3 Axes>"
            ],
            "image/png": "[encoded data removed]"
          },
          "metadata": {}
        },
        {
          "output_type": "stream",
          "name": "stdout",
          "text": [
            "Train Loss: 0.0153, Train Accuracy: 0.9953\n",
            "Epoch 8/10\n"
          ]
        },
        {
          "output_type": "display_data",
          "data": {
            "text/plain": [
              "<Figure size 600x600 with 3 Axes>"
            ],
            "image/png": "[encoded data removed]"
          },
          "metadata": {}
        },
        {
          "output_type": "stream",
          "name": "stdout",
          "text": [
            "Train Loss: 0.0149, Train Accuracy: 0.9955\n",
            "Epoch 9/10\n"
          ]
        },
        {
          "output_type": "display_data",
          "data": {
            "text/plain": [
              "<Figure size 600x600 with 3 Axes>"
            ],
            "image/png": "[encoded data removed]"
          },
          "metadata": {}
        },
        {
          "output_type": "stream",
          "name": "stdout",
          "text": [
            "Train Loss: 0.0124, Train Accuracy: 0.9963\n",
            "Epoch 10/10\n"
          ]
        },
        {
          "output_type": "display_data",
          "data": {
            "text/plain": [
              "<Figure size 600x600 with 3 Axes>"
            ],
            "image/png": "[encoded data removed]"
          },
          "metadata": {}
        },
        {
          "output_type": "stream",
          "name": "stdout",
          "text": [
            "Train Loss: 0.0121, Train Accuracy: 0.9959\n"
          ]
        },
        {
          "output_type": "display_data",
          "data": {
            "text/plain": [
              "<Figure size 1200x600 with 2 Axes>"
            ],
            "image/png": "[encoded data removed]"
          },
          "metadata": {}
        }
      ],
      "source": [
        "# Start the timer\n",
        "start_time_retrain = time.time()\n",
        "adv_trained_dataset = adversarial_retraining(clean_model, combineloader, optimizer, loss_fn, num_epochs, device, defense_type,randomization_defense,input_transformation)\n",
        "# End the timer\n",
        "end_time_retrain = time.time()"
      ]
    },
    {
      "cell_type": "code",
      "execution_count": 77,
      "id": "5e16b45d-9255-4638-ae33-55d4df03b1d2",
      "metadata": {
        "id": "5e16b45d-9255-4638-ae33-55d4df03b1d2",
        "colab": {
          "base_uri": "https://localhost:8080/"
        },
        "outputId": "e5477d3c-b9f0-4c8d-a078-f21d7bfa05bb"
      },
      "outputs": [
        {
          "output_type": "stream",
          "name": "stdout",
          "text": [
            "Training duration: 92.46 seconds\n",
            "Training duration: 1.54 minutes\n",
            "Training duration: 0.03 hours\n"
          ]
        }
      ],
      "source": [
        "# Print the training duration in different units\n",
        "\n",
        "# Calculate the training duration\n",
        "retraining_duration_seconds = abs(end_time_retrain - start_time_retrain)\n",
        "\n",
        "# Calculate the training duration in minutes\n",
        "retraining_duration_minutes = retraining_duration_seconds / 60\n",
        "\n",
        "# Calculate the training duration in hours\n",
        "retraining_duration_hours = retraining_duration_minutes / 60\n",
        "\n",
        "print(f\"Training duration: {retraining_duration_seconds:.2f} seconds\")\n",
        "print(f\"Training duration: {retraining_duration_minutes:.2f} minutes\")\n",
        "print(f\"Training duration: {retraining_duration_hours:.2f} hours\")"
      ]
    },
    {
      "cell_type": "code",
      "source": [
        "num_clean_elements = 0\n",
        "num_adv_elements = 0\n",
        "\n",
        "for clean_images, clean_targets in clean_loader:\n",
        "    num_clean_elements = len(clean_images)\n",
        "    print(f\"Number of clean images: {num_clean_elements}\")\n",
        "\n",
        "for adv_images, adv_targets in adv_loader:\n",
        "    num_adv_elements = len(adv_images)\n",
        "    print(f\"Number of adversarial images: {num_adv_elements}\")\n",
        "\n",
        "num_combined_elements = num_clean_elements + num_adv_elements\n",
        "print(f\"Number of combined images: {num_combined_elements}\")\n",
        "\n",
        "adv_trained_images_tensor, adv_trained_labels_tensor = adv_trained_dataset.tensors\n",
        "num_adv_trained_elements = len(adv_trained_images_tensor)\n",
        "print(f\"Number of adversarially trained images: {num_adv_trained_elements}\")"
      ],
      "metadata": {
        "colab": {
          "base_uri": "https://localhost:8080/"
        },
        "id": "AHNL0oJBp76Y",
        "outputId": "3f4ec4df-e05d-4f95-c4aa-50d3332baf58"
      },
      "id": "AHNL0oJBp76Y",
      "execution_count": 78,
      "outputs": [
        {
          "output_type": "stream",
          "name": "stdout",
          "text": [
            "Number of clean images: 54210\n",
            "Number of adversarial images: 11120\n",
            "Number of combined images: 65330\n",
            "Number of adversarially trained images: 108420\n"
          ]
        }
      ]
    },
    {
      "cell_type": "code",
      "execution_count": 79,
      "id": "b56c7aa2-e278-4187-9e9b-e753496e8987",
      "metadata": {
        "id": "b56c7aa2-e278-4187-9e9b-e753496e8987"
      },
      "outputs": [],
      "source": [
        "def load_retrained_model(model, save_dir):\n",
        "    # Model folder\n",
        "    model_path = f\"{save_dir}/retrained_model.pth\"\n",
        "\n",
        "    if not os.path.exists(model_path):\n",
        "        raise FileNotFoundError(f\"Model file not found in {model_path}\")\n",
        "\n",
        "    model.load_state_dict(torch.load(model_path))\n",
        "    model.eval()\n",
        "\n",
        "    print(f\"Loaded retrained_model state dict from {model_path}\")\n",
        "    return model"
      ]
    },
    {
      "cell_type": "code",
      "execution_count": 80,
      "id": "a8ed695e-4ec9-4d96-b130-8ae51030b87a",
      "metadata": {
        "id": "a8ed695e-4ec9-4d96-b130-8ae51030b87a"
      },
      "outputs": [],
      "source": [
        "def evaluate_after_adv_retraining(model, data_loader, loss_fn, device):\n",
        "    after_adv_test_loss = 0\n",
        "    after_adv_accuracy = 0\n",
        "    num_misclassified = 0\n",
        "    model.eval()\n",
        "    misclassified_images = []\n",
        "    misclassified_labels = []\n",
        "    misclassified_preds = []\n",
        "\n",
        "    # Create dataset\n",
        "    dataset_size = len(data_loader.dataset)\n",
        "    print(f\"Number of adv. retrained test images: {dataset_size}\")\n",
        "\n",
        "    with torch.no_grad():\n",
        "        for i, (x, y) in enumerate(data_loader):\n",
        "            x, y = x.to(device), y.to(device)  # Move input data to the specified device\n",
        "            logits = model(x)\n",
        "            batch_loss = loss_fn(logits, y)\n",
        "            after_adv_test_loss += batch_loss.item()\n",
        "            preds = torch.argmax(logits, dim=1)\n",
        "            after_adv_accuracy += torch.sum(preds == y).item() / len(y)\n",
        "            incorrect_inds = torch.where(preds != y)[0]\n",
        "            num_misclassified += len(incorrect_inds)\n",
        "\n",
        "            # Filter indices to current batch size\n",
        "            incorrect_inds = incorrect_inds[incorrect_inds < len(x)]\n",
        "\n",
        "            if len(incorrect_inds) > 0:\n",
        "                misclassified_images.append(x[incorrect_inds].cpu())  # Move data back to CPU\n",
        "                misclassified_labels.append(y[incorrect_inds].cpu())  # Move data back to CPU\n",
        "                misclassified_preds.append(preds[incorrect_inds].cpu())  # Move data back to CPU\n",
        "\n",
        "    num_misclassified = min(num_misclassified, dataset_size)\n",
        "    print(f\"Number of misclassified images: {num_misclassified} out of {dataset_size}\")\n",
        "\n",
        "    after_adv_test_loss /= len(data_loader)\n",
        "    after_adv_accuracy /= len(data_loader)\n",
        "    print(f\"Adversarial Retrained Test loss: {after_adv_test_loss:.4f}, Accuracy: {after_adv_accuracy:.2%}\")\n",
        "\n",
        "    # Handle empty lists\n",
        "    if len(misclassified_images) == 0:\n",
        "        misclassified_images.append(torch.tensor([]))\n",
        "    if len(misclassified_labels) == 0:\n",
        "        misclassified_labels.append(torch.tensor([]))\n",
        "    if len(misclassified_preds) == 0:\n",
        "        misclassified_preds.append(torch.tensor([]))\n",
        "\n",
        "    return after_adv_test_loss, after_adv_accuracy, [torch.cat(misclassified_images)], [torch.cat(misclassified_labels)], [torch.cat(misclassified_preds)]"
      ]
    },
    {
      "cell_type": "code",
      "execution_count": 81,
      "id": "3739430e-455c-4eba-8ec3-7fb2a0f197dc",
      "metadata": {
        "id": "3739430e-455c-4eba-8ec3-7fb2a0f197dc",
        "colab": {
          "base_uri": "https://localhost:8080/"
        },
        "outputId": "6c64d66d-e431-4985-83d0-ee8922818de6"
      },
      "outputs": [
        {
          "output_type": "stream",
          "name": "stdout",
          "text": [
            "Loaded retrained_model state dict from clean_models/retrained_model.pth\n"
          ]
        }
      ],
      "source": [
        "# Model folder\n",
        "save_dir = 'clean_models'\n",
        "\n",
        "# Loading\n",
        "defense_model = load_retrained_model(model, save_dir)"
      ]
    },
    {
      "cell_type": "code",
      "execution_count": 82,
      "id": "e6f1eb5b-1a84-4c95-ad31-724aaa0ff558",
      "metadata": {
        "id": "e6f1eb5b-1a84-4c95-ad31-724aaa0ff558",
        "colab": {
          "base_uri": "https://localhost:8080/"
        },
        "outputId": "751c9cad-a34e-49b1-e7c9-3825450901be"
      },
      "outputs": [
        {
          "output_type": "stream",
          "name": "stdout",
          "text": [
            "Number of adv. retrained test images: 8920\n",
            "Number of misclassified images: 113 out of 8920\n",
            "Adversarial Retrained Test loss: 0.0434, Accuracy: 98.74%\n"
          ]
        }
      ],
      "source": [
        "# Create dataset and loader\n",
        "adv_retrain_loader = DataLoader(adv_trained_dataset, batch_size=124, shuffle=False)\n",
        "adv_retrain_test_loss, adv_retrain_test_acc, adv_retrain_misclassified_images, adv_retrain_misclassified_labels, adv_retrain_misclassified_preds = evaluate_after_adv_retraining(defense_model, filtered_test_loader, loss_fn, device)"
      ]
    },
    {
      "cell_type": "code",
      "execution_count": 83,
      "id": "d89bfa58-0661-425b-86ca-006829db4d64",
      "metadata": {
        "id": "d89bfa58-0661-425b-86ca-006829db4d64",
        "colab": {
          "base_uri": "https://localhost:8080/",
          "height": 1000
        },
        "outputId": "3f79492f-20f5-4a51-f1d2-9ed7996a99d8"
      },
      "outputs": [
        {
          "output_type": "stream",
          "name": "stdout",
          "text": [
            "Number misclassified: 113\n"
          ]
        },
        {
          "output_type": "display_data",
          "data": {
            "text/plain": [
              "<Figure size 600x6000 with 60 Axes>"
            ],
            "image/png": "[encoded data removed]"
          },
          "metadata": {}
        }
      ],
      "source": [
        "retrained_misclassified_images, retrained_misclassified_labels, retrained_misclassified_preds = analyze_for_misclassifications(adv_retrain_misclassified_images, adv_retrain_misclassified_labels, adv_retrain_misclassified_preds)"
      ]
    },
    {
      "cell_type": "code",
      "execution_count": 84,
      "id": "45ecfee8-6779-470e-b649-5e97623ba464",
      "metadata": {
        "id": "45ecfee8-6779-470e-b649-5e97623ba464"
      },
      "outputs": [],
      "source": [
        "import torch\n",
        "import tqdm\n",
        "from torch.utils.data import DataLoader, TensorDataset\n",
        "\n",
        "def perform_adv_attack_after_retraining(model, attack, data_loader, device):\n",
        "    adv_data = []\n",
        "    adv_labels = []\n",
        "    device = next(model.parameters()).device\n",
        "\n",
        "    total_batches = len(data_loader)\n",
        "    progress_bar = tqdm.tqdm(total=total_batches, unit='batch', desc='Adversarial Attack')\n",
        "\n",
        "    for x, y in data_loader:\n",
        "        x, y = x.to(device), y.to(device)\n",
        "\n",
        "        # Convert labels to long data type\n",
        "        y = y.long()\n",
        "\n",
        "        x_adv = attack(x, y)\n",
        "        adv_data.append(x_adv.detach())\n",
        "        adv_labels.append(y.detach())\n",
        "\n",
        "        progress_bar.update(1)\n",
        "\n",
        "    progress_bar.close()\n",
        "\n",
        "    adv_data = torch.cat(adv_data)\n",
        "    adv_labels = torch.cat(adv_labels)\n",
        "\n",
        "    # Move data back to CPU if necessary\n",
        "    if device != torch.device('cpu'):\n",
        "        adv_data = adv_data.to('cpu')\n",
        "        adv_labels = adv_labels.to('cpu')\n",
        "\n",
        "    # Create dataset and loader\n",
        "    adv_dataset = TensorDataset(adv_data, adv_labels)\n",
        "    adv_loader = DataLoader(adv_dataset, batch_size=64, shuffle=False)\n",
        "\n",
        "    return adv_dataset"
      ]
    },
    {
      "cell_type": "code",
      "source": [
        "print(dataset_name)\n",
        "\n",
        "filtered_test_loader = DataLoader(filtered_test_set, batch_size=64)\n",
        "\n",
        "# Print the number of batches in the data loaders\n",
        "print(\"Number of batches in the filtered test set:\", len(filtered_test_loader))\n",
        "\n",
        "# Calculate the size of the filtered test set\n",
        "test_set_size = len(filtered_test_loader) * filtered_test_loader.batch_size\n",
        "if len(filtered_test_set) % filtered_test_loader.batch_size != 0:\n",
        "    test_set_size += len(filtered_test_set) % filtered_test_loader.batch_size\n",
        "\n",
        "# Print the sizes of the filtered sets\n",
        "print(\"Number of images in the filtered test set:\", test_set_size)"
      ],
      "metadata": {
        "colab": {
          "base_uri": "https://localhost:8080/"
        },
        "id": "axVFHEgrq4gN",
        "outputId": "47cccffa-f0fd-472c-e694-a2dc0fae2277"
      },
      "id": "axVFHEgrq4gN",
      "execution_count": 85,
      "outputs": [
        {
          "output_type": "stream",
          "name": "stdout",
          "text": [
            "MNIST\n",
            "Number of batches in the filtered test set: 140\n",
            "Number of images in the filtered test set: 8984\n"
          ]
        }
      ]
    },
    {
      "cell_type": "code",
      "execution_count": 86,
      "id": "39ff4209-d0f0-408f-82e7-bb8fc6f1529e",
      "metadata": {
        "id": "39ff4209-d0f0-408f-82e7-bb8fc6f1529e",
        "colab": {
          "base_uri": "https://localhost:8080/"
        },
        "outputId": "3d954cde-9d5b-4d65-df1d-d04ea0af8f23"
      },
      "outputs": [
        {
          "output_type": "stream",
          "name": "stderr",
          "text": [
            "Adversarial Attack: 100%|██████████| 140/140 [01:21<00:00,  1.73batch/s]\n"
          ]
        }
      ],
      "source": [
        "# Adversarial attack on retrained model\n",
        "adv_retrain_loader = perform_adv_attack(model, attack, filtered_test_loader)"
      ]
    },
    {
      "cell_type": "code",
      "execution_count": 87,
      "id": "998e2d3b-78ef-495d-bb29-c775be0f5588",
      "metadata": {
        "id": "998e2d3b-78ef-495d-bb29-c775be0f5588"
      },
      "outputs": [],
      "source": [
        "def evaluate_adv_attack_after_retraining(model, data_loader, loss_fn, device):\n",
        "    atack_after_retrained_test_loss = 0\n",
        "    atack_after_retrained_accuracy = 0\n",
        "    num_misclassified = 0\n",
        "    model.eval()\n",
        "    misclassified_images = []\n",
        "    misclassified_labels = []\n",
        "    misclassified_preds = []\n",
        "\n",
        "    images, labels = next(iter(data_loader))\n",
        "    images, labels = images.to(device), labels.to(device)  # Move data to the specified device\n",
        "    num_clean_test_elements = len(images)\n",
        "    print(f\"Number of clean test images: {num_clean_test_elements}\")\n",
        "\n",
        "    # Create dataset\n",
        "    test_ds = TensorDataset(images, labels)\n",
        "    # Create loader\n",
        "    test_loader = DataLoader(test_ds, batch_size=64)\n",
        "    dataset_size = len(test_loader.dataset)\n",
        "\n",
        "    with torch.no_grad():\n",
        "        for i, (x, y) in enumerate(test_loader):\n",
        "            x, y = x.to(device), y.to(device)  # Move data to the specified device\n",
        "            logits = model(x)\n",
        "            batch_loss = loss_fn(logits, y)\n",
        "            atack_after_retrained_test_loss += batch_loss.item()\n",
        "            preds = torch.argmax(logits, dim=1)\n",
        "            atack_after_retrained_accuracy += torch.sum(preds == y).item() / len(y)\n",
        "            incorrect_inds = torch.where(preds != y)[0]\n",
        "            num_misclassified += len(incorrect_inds)\n",
        "\n",
        "            # Filter indices to current batch size\n",
        "            incorrect_inds = incorrect_inds[incorrect_inds < len(x)]\n",
        "\n",
        "            if len(incorrect_inds) > 0:\n",
        "                misclassified_images.append(x[incorrect_inds].cpu())  # Move data back to CPU\n",
        "                misclassified_labels.append(y[incorrect_inds].cpu())  # Move data back to CPU\n",
        "                misclassified_preds.append(preds[incorrect_inds].cpu())  # Move data back to CPU\n",
        "\n",
        "    num_misclassified = min(num_misclassified, dataset_size)\n",
        "    print(f\"Number of misclassified images: {num_misclassified} out of {dataset_size}\")\n",
        "    atack_after_retrained_test_loss /= len(test_loader)\n",
        "    atack_after_retrained_accuracy /= len(test_loader)\n",
        "    print(f\"Adv. Attack Against Retrained Test loss: {atack_after_retrained_test_loss:.4f}, Accuracy: {atack_after_retrained_accuracy:.2%}\")\n",
        "\n",
        "    # Handle empty lists\n",
        "    if len(misclassified_images) == 0:\n",
        "        misclassified_images.append(torch.tensor([]))\n",
        "    if len(misclassified_labels) == 0:\n",
        "        misclassified_labels.append(torch.tensor([]))\n",
        "    if len(misclassified_preds) == 0:\n",
        "        misclassified_preds.append(torch.tensor([]))\n",
        "\n",
        "    return atack_after_retrained_test_loss, atack_after_retrained_accuracy, [torch.cat(misclassified_images)], [torch.cat(misclassified_labels)], [torch.cat(misclassified_preds)]"
      ]
    },
    {
      "cell_type": "code",
      "execution_count": 88,
      "id": "a37544a3-e216-44e9-8cda-152bda7c539e",
      "metadata": {
        "id": "a37544a3-e216-44e9-8cda-152bda7c539e",
        "colab": {
          "base_uri": "https://localhost:8080/"
        },
        "outputId": "25141bdd-3f4f-49be-efc5-b9f28e7435d0"
      },
      "outputs": [
        {
          "output_type": "stream",
          "name": "stdout",
          "text": [
            "Number of clean test images: 64\n",
            "Number of misclassified images: 0 out of 64\n",
            "Adv. Attack Against Retrained Test loss: 0.0000, Accuracy: 100.00%\n",
            "\n",
            "A few key ways to evaluate whether an adversarial attack on a machine learning model was successful:\n",
            "\n",
            "Drop in Model Accuracy: 20-40% drop in accuracy indicates the attack was effective.\n",
            "\n",
            "High Loss Value: A sharp spike in loss is another sign of a working attack.\n",
            "\n",
            "Misclassified Examplese: Images wrongly labeled indicates a successful targeted attack\n",
            "\n"
          ]
        }
      ],
      "source": [
        "# Evaluate attack after retraining\n",
        "retrained_test_loss, retrained_accuracy, misclassified_images, misclassified_labels, misclassified_preds = evaluate_adv_attack_after_retraining(defense_model, filtered_test_loader, loss_fn, device)\n",
        "print(\"\\nA few key ways to evaluate whether an adversarial attack on a machine learning model was successful:\\n\")\n",
        "print(\"Drop in Model Accuracy: 20-40% drop in accuracy indicates the attack was effective.\\n\")\n",
        "print(\"High Loss Value: A sharp spike in loss is another sign of a working attack.\\n\")\n",
        "print(\"Misclassified Examplese: Images wrongly labeled indicates a successful targeted attack\\n\")"
      ]
    },
    {
      "cell_type": "code",
      "execution_count": 89,
      "id": "5ad629c3-7174-4fc6-82ec-51f470bd8d5e",
      "metadata": {
        "id": "5ad629c3-7174-4fc6-82ec-51f470bd8d5e",
        "colab": {
          "base_uri": "https://localhost:8080/",
          "height": 52
        },
        "outputId": "8cf145bc-79b4-4ba5-a351-d8cf2153c9a6"
      },
      "outputs": [
        {
          "output_type": "stream",
          "name": "stdout",
          "text": [
            "Number misclassified: 0\n"
          ]
        },
        {
          "output_type": "display_data",
          "data": {
            "text/plain": [
              "<Figure size 600x0 with 0 Axes>"
            ]
          },
          "metadata": {}
        }
      ],
      "source": [
        "retrained_misclassified_images, retrained_misclassified_labels, retrained_misclassified_preds = analyze_for_misclassifications(misclassified_images, misclassified_labels, misclassified_preds)"
      ]
    },
    {
      "cell_type": "code",
      "execution_count": 90,
      "id": "d10babee-9534-4187-b9d7-4babdd96b8df",
      "metadata": {
        "id": "d10babee-9534-4187-b9d7-4babdd96b8df"
      },
      "outputs": [],
      "source": [
        "def precision(true_positives, false_positives):\n",
        "    if true_positives + false_positives == 0:\n",
        "        return 0.0\n",
        "    return true_positives / (true_positives + false_positives)"
      ]
    },
    {
      "cell_type": "code",
      "execution_count": 91,
      "id": "3e20ecbb-accf-4238-8f7b-5e96678c518f",
      "metadata": {
        "id": "3e20ecbb-accf-4238-8f7b-5e96678c518f"
      },
      "outputs": [],
      "source": [
        "def recall(true_positives, false_negatives):\n",
        "    if true_positives + false_negatives == 0:\n",
        "        return 0.0\n",
        "    return true_positives / (true_positives + false_negatives)"
      ]
    },
    {
      "cell_type": "code",
      "execution_count": 92,
      "id": "89773386-b77a-46c8-ad7d-3ae9ba0995cd",
      "metadata": {
        "id": "89773386-b77a-46c8-ad7d-3ae9ba0995cd"
      },
      "outputs": [],
      "source": [
        "def f1_score(precision, recall):\n",
        "    if precision + recall == 0:\n",
        "        return 0.0\n",
        "    return 2 * (precision * recall) / (precision + recall)"
      ]
    },
    {
      "cell_type": "code",
      "execution_count": 93,
      "id": "54a1cc1a-f492-40ff-b85b-d43d101f654d",
      "metadata": {
        "id": "54a1cc1a-f492-40ff-b85b-d43d101f654d"
      },
      "outputs": [],
      "source": [
        "from sklearn.metrics import roc_auc_score\n",
        "\n",
        "def auc_score(true_labels, predicted_probabilities):\n",
        "    if len(set(true_labels)) == 2:\n",
        "        return roc_auc_score(true_labels, predicted_probabilities)\n",
        "    else:\n",
        "        return \"ROC AUC score is not defined for a single class.\""
      ]
    },
    {
      "cell_type": "code",
      "execution_count": 94,
      "id": "369a998a-4447-46f7-a83e-e00e289e55ec",
      "metadata": {
        "id": "369a998a-4447-46f7-a83e-e00e289e55ec"
      },
      "outputs": [],
      "source": [
        "def print_summary_images(images, labels, preds, stage, attack_name, dataset_name, num_clean_elements, num_adv_elements, num_combined_elements, num_epoch, num_test_images):\n",
        "    # Check for no images\n",
        "    if len(images) == 0:\n",
        "        print(f\"\\n---------------------------------------------------------\")\n",
        "        print(f\"No misclassified images for stage: {stage}\")\n",
        "        print(f\"Attack: {attack_name}\")\n",
        "        print(f\"Dataset: {dataset_name}\")\n",
        "        print(f\"Training Epochs: {num_epoch}\")\n",
        "        if stage == \"Clean\":\n",
        "            print(f\"Trained Clean Images: {num_clean_elements}\")\n",
        "            accuracy = test_acc\n",
        "        elif stage == \"No Defense Attack\":\n",
        "            print(f\"Adversarial Training Images: {num_adv_elements}\")\n",
        "            accuracy = clean_attack_adv_test_accuracy\n",
        "        elif stage == \"w/ Defense Attack\":\n",
        "            print(f\"Retrained Clean and Adversarial Images: {num_combined_elements}\")\n",
        "            accuracy = retrained_accuracy\n",
        "        print(f\"Test Images: {num_test_images}\")\n",
        "        print(f\"Accuracy: {accuracy:.2f}\")\n",
        "\n",
        "        true_positives = int(accuracy * num_test_images)\n",
        "        false_positives = 0\n",
        "        false_negatives = num_test_images - true_positives\n",
        "\n",
        "        precision_value = precision(true_positives, false_positives)\n",
        "        recall_value = recall(true_positives, false_negatives)\n",
        "        f1_score_value = f1_score(precision_value, recall_value)\n",
        "\n",
        "        # Create the true labels and predicted probabilities based on the variables\n",
        "        true_labels = [1] * true_positives + [0] * false_negatives\n",
        "        predicted_probabilities = [1] * true_positives + [0] * false_negatives\n",
        "        auc = auc_score(true_labels, predicted_probabilities)\n",
        "\n",
        "        print(f\"Precision: {precision_value:.2f}\")\n",
        "        print(f\"Recall: {recall_value:.2f}\")\n",
        "        print(f\"F1-score: {f1_score_value:.2f}\")\n",
        "        if isinstance(auc, float):\n",
        "            print(f\"ROC AUC Score: {auc:.2f}\")\n",
        "        else:\n",
        "            print(auc)\n",
        "        print(f\"---------------------------------------------------------\\n\")\n",
        "    else:\n",
        "        # Count the number of misclassifications for each situation\n",
        "        misclassifications = {}\n",
        "        for label, pred in zip(labels, preds):\n",
        "            if label != pred:\n",
        "                key = f\"{label} -> {pred}\"\n",
        "                misclassifications[key] = misclassifications.get(key, 0) + 1\n",
        "\n",
        "        # Plot images\n",
        "        num_images = len(images)\n",
        "        print(f\"\\n---------------------------------------------------------\")\n",
        "        print(f\"Number of misclassified images for {stage}: {num_images}\")\n",
        "        print(f\"Attack: {attack_name}\")\n",
        "        print(f\"Dataset: {dataset_name}\")\n",
        "        print(f\"Training Epochs: {num_epoch}\")\n",
        "        if stage == \"Clean\":\n",
        "            print(f\"Trained Clean Images: {num_clean_elements}\")\n",
        "            accuracy = test_acc\n",
        "        elif stage == \"No Defense Attack\":\n",
        "            print(f\"Adversarial Training Images: {num_adv_elements}\")\n",
        "            accuracy = clean_attack_adv_test_accuracy\n",
        "        elif stage == \"w/ Defense Attack\":\n",
        "            print(f\"Retrained Clean and Adversarial Images: {num_combined_elements}\")\n",
        "            accuracy = retrained_accuracy\n",
        "        print(f\"Test Images: {num_test_images}\")\n",
        "        print(f\"Accuracy: {accuracy:.2f}\")\n",
        "\n",
        "        true_positives = int(accuracy * num_test_images)\n",
        "        false_positives = num_images\n",
        "        false_negatives = num_test_images - true_positives - false_positives\n",
        "\n",
        "        precision_value = precision(true_positives, false_positives)\n",
        "        recall_value = recall(true_positives, false_negatives)\n",
        "        f1_score_value = f1_score(precision_value, recall_value)\n",
        "\n",
        "        # Create the true labels and predicted probabilities based on the variables\n",
        "        true_labels = [1] * true_positives + [0] * false_negatives\n",
        "        predicted_probabilities = [1] * true_positives + [0] * false_negatives\n",
        "        auc = auc_score(true_labels, predicted_probabilities)\n",
        "\n",
        "        print(f\"Precision: {precision_value:.2f}\")\n",
        "        print(f\"Recall: {recall_value:.2f}\")\n",
        "        print(f\"F1-score: {f1_score_value:.2f}\")\n",
        "        if isinstance(auc, float):\n",
        "            print(f\"ROC AUC Score: {auc:.2f}\")\n",
        "        else:\n",
        "            print(auc)\n",
        "        print(f\"---------------------------------------------------------\\n\")\n",
        "\n",
        "        fig = plt.figure(figsize=(6, num_images))\n",
        "        rows = math.ceil(num_images / 2)\n",
        "        cols = 2 if num_images > 16 else min(num_images, 2)\n",
        "        for i, (img, label, pred) in enumerate(zip(images, labels, preds)):\n",
        "            # Add subplot\n",
        "            ax = fig.add_subplot(rows, cols, i+1)\n",
        "            # Add empty dim if needed\n",
        "            if img.ndim == 2:\n",
        "                img = img[:,None,:,]\n",
        "            # Permute to HWC format for imshow\n",
        "            img = img.permute(1, 2, 0)\n",
        "            ax.imshow(img)\n",
        "            ax.set_title(f\"{label} -> {pred}\")\n",
        "            ax.axis(\"off\")\n",
        "\n",
        "        # Print the number of misclassifications for each situation\n",
        "        print(\"Misclassifications:\")\n",
        "        for situation, count in misclassifications.items():\n",
        "            print(f\"{situation}: {count}\")\n",
        "\n",
        "        plt.tight_layout()\n",
        "        plt.show()"
      ]
    },
    {
      "cell_type": "code",
      "execution_count": 95,
      "id": "496d47bd-2cdf-443e-9958-f43f3b8fc818",
      "metadata": {
        "id": "496d47bd-2cdf-443e-9958-f43f3b8fc818",
        "colab": {
          "base_uri": "https://localhost:8080/"
        },
        "outputId": "6b2aee3d-587d-4021-ecc7-c8e94aece70b"
      },
      "outputs": [
        {
          "output_type": "stream",
          "name": "stdout",
          "text": [
            "Number of clean images in training set: 54210\n",
            "Number of clean batches: 423\n",
            "Number of adversarial images: 11120\n",
            "Number of adversarial batches: 86\n",
            "Number of combined images: 65330\n",
            "Number of combined batches: 510\n"
          ]
        }
      ],
      "source": [
        "print(\"Number of clean images in training set:\", num_clean_images)\n",
        "print(f\"Number of clean batches: {num_clean_batches}\")\n",
        "\n",
        "print(f\"Number of adversarial images: {num_adv_images}\")\n",
        "print(f\"Number of adversarial batches: {num_adv_batches}\")\n",
        "\n",
        "print(f\"Number of combined images: {num_combined_images}\")\n",
        "print(f\"Number of combined batches: {num_combined_batches}\")"
      ]
    },
    {
      "cell_type": "code",
      "execution_count": 96,
      "id": "acc5b456-0852-401a-ac21-5dde331211f4",
      "metadata": {
        "id": "acc5b456-0852-401a-ac21-5dde331211f4"
      },
      "outputs": [],
      "source": [
        "import tabulate"
      ]
    },
    {
      "cell_type": "code",
      "execution_count": 97,
      "id": "fa6be136-af9e-4d9b-9ac6-746c9b181f7d",
      "metadata": {
        "id": "fa6be136-af9e-4d9b-9ac6-746c9b181f7d"
      },
      "outputs": [],
      "source": [
        "def summarize_performance(clean_loss, clean_acc, adv_loss, adv_acc, retrain_loss, retrain_acc,\n",
        "                          clean_misclassified_images, adv_misclassified_images, retrained_misclassified_images,\n",
        "                          clean_misclassified_labels, adv_misclassified_labels, retrained_misclassified_labels,\n",
        "                          clean_misclassified_preds,adv_misclassified_preds, retrained_misclassified_preds, defense_type,randomization_defense):\n",
        "\n",
        "    if (defense_type == \"adversarial_training\"):\n",
        "      print(\"Defense Implemented: Adversarial Training\\n\")\n",
        "    elif (defense_type == \"randomization\"):\n",
        "      print(\"Defense Implemented: Randomization\\n\")\n",
        "      if (randomization_defense == \"random_resizing\"):\n",
        "        print(\"Randomization Approach: Random Resizing\\n\")\n",
        "      elif(randomization_defense == \"random_cropping\"):\n",
        "        print(\"Randomization Approach: Random Cropping\\n\")\n",
        "      elif(randomization_defense == \"random_rotation\"):\n",
        "        print(\"Randomization Approach: Random Rotation\\n\")\n",
        "      elif(randomization_defense == \"combined_randomization\"):\n",
        "        print(\"Randomization Approach: Combined Randomization\\n\")\n",
        "    elif (defense_type == \"input_transformation\"):\n",
        "      print(\"Defense Implemented: Input Transformation\\n\")\n",
        "      if (input_transformation == \"image_quilting\"):\n",
        "         print(\"Input Transformation Approach: Image Quilting\\n\")\n",
        "      elif (input_transformation == \"adversarial_logit_pairing\"):\n",
        "        print(\"Input Transformation Approach: Adversarial Logit Pairing\\n\")\n",
        "      elif (input_transformation == \"differential_privacy\"):\n",
        "        print(\"Input Transformation Approach: Differential Privacy\\n\")\n",
        "      elif (input_transformation == \"combined_input_transformation\"):\n",
        "        print(\"Input Transformation Approach: Combined Input Transformation\\n\")\n",
        "\n",
        "    table_data = [[\"Metric\", \"Clean\", \"No Defense Attack\", \"w/ Defense Attack\"],\n",
        "                  [\"Loss\", f'{clean_loss:.3g}', f'{adv_loss:.3g}', f'{retrain_loss:.3g}'],\n",
        "                  [\"Accuracy\", f'{clean_acc:.0%}', f'{adv_acc:.0%}', f'{retrain_acc:.0%}']]\n",
        "\n",
        "    print(tabulate.tabulate(table_data, headers=\"firstrow\", tablefmt=\"grid\"))\n",
        "\n",
        "    print(\"\\nExample Misclassifications:\")\n",
        "    print_summary_images(clean_misclassified_images, clean_misclassified_labels, clean_misclassified_preds, \"Clean\", compounded_attack_name, dataset_name, num_clean_elements, num_adv_elements, num_combined_elements, num_epochs, len(filtered_test_loader))\n",
        "    print_summary_images(adv_misclassified_images, adv_misclassified_labels, adv_misclassified_preds, \"No Defense Attack\",  compounded_attack_name, dataset_name, num_clean_elements, num_adv_elements, num_combined_elements, num_epochs, len(filtered_test_loader))\n",
        "    print_summary_images(retrained_misclassified_images, retrained_misclassified_labels, retrained_misclassified_preds, \"w/ Defense Attack\",  compounded_attack_name, dataset_name, num_clean_elements, num_adv_elements, num_combined_elements, num_epochs, len(filtered_test_loader))"
      ]
    },
    {
      "cell_type": "code",
      "execution_count": 98,
      "id": "5e465011-93ef-4447-84b8-838bf0f291fb",
      "metadata": {
        "id": "5e465011-93ef-4447-84b8-838bf0f291fb",
        "scrolled": true,
        "colab": {
          "base_uri": "https://localhost:8080/",
          "height": 1000
        },
        "outputId": "c1fc667c-2a0a-478a-8b43-d05c87b144ec"
      },
      "outputs": [
        {
          "output_type": "stream",
          "name": "stdout",
          "text": [
            "Defense Implemented: Randomization\n",
            "\n",
            "Randomization Approach: Combined Randomization\n",
            "\n",
            "+----------+----------+---------------------+---------------------+\n",
            "| Metric   | Clean    | No Defense Attack   | w/ Defense Attack   |\n",
            "+==========+==========+=====================+=====================+\n",
            "| Loss     | 0.000589 | 0.0482              | 3.72e-05            |\n",
            "+----------+----------+---------------------+---------------------+\n",
            "| Accuracy | 100%     | 97%                 | 100%                |\n",
            "+----------+----------+---------------------+---------------------+\n",
            "\n",
            "Example Misclassifications:\n",
            "\n",
            "---------------------------------------------------------\n",
            "No misclassified images for stage: Clean\n",
            "Attack: cw_pgd_attack\n",
            "Dataset: MNIST\n",
            "Training Epochs: 10\n",
            "Trained Clean Images: 54210\n",
            "Test Images: 140\n",
            "Accuracy: 1.00\n",
            "Precision: 1.00\n",
            "Recall: 1.00\n",
            "F1-score: 1.00\n",
            "ROC AUC score is not defined for a single class.\n",
            "---------------------------------------------------------\n",
            "\n",
            "\n",
            "---------------------------------------------------------\n",
            "Number of misclassified images for No Defense Attack: 2\n",
            "Attack: cw_pgd_attack\n",
            "Dataset: MNIST\n",
            "Training Epochs: 10\n",
            "Adversarial Training Images: 11120\n",
            "Test Images: 140\n",
            "Accuracy: 0.97\n",
            "Precision: 0.99\n",
            "Recall: 0.98\n",
            "F1-score: 0.98\n",
            "ROC AUC Score: 1.00\n",
            "---------------------------------------------------------\n",
            "\n",
            "Misclassifications:\n",
            "0 -> 6: 1\n",
            "0 -> 7: 1\n"
          ]
        },
        {
          "output_type": "display_data",
          "data": {
            "text/plain": [
              "<Figure size 600x200 with 2 Axes>"
            ],
            "image/png": "[encoded data removed]"
          },
          "metadata": {}
        },
        {
          "output_type": "stream",
          "name": "stdout",
          "text": [
            "\n",
            "---------------------------------------------------------\n",
            "No misclassified images for stage: w/ Defense Attack\n",
            "Attack: cw_pgd_attack\n",
            "Dataset: MNIST\n",
            "Training Epochs: 10\n",
            "Retrained Clean and Adversarial Images: 65330\n",
            "Test Images: 140\n",
            "Accuracy: 1.00\n",
            "Precision: 1.00\n",
            "Recall: 1.00\n",
            "F1-score: 1.00\n",
            "ROC AUC score is not defined for a single class.\n",
            "---------------------------------------------------------\n",
            "\n"
          ]
        }
      ],
      "source": [
        "summarize_performance(test_loss, test_acc, clean_attack_test_loss, clean_attack_adv_test_accuracy, retrained_test_loss, retrained_accuracy,\n",
        "                          clean_misclassified_images, adv_misclassified_images, retrained_misclassified_images,\n",
        "                          clean_misclassified_labels, adv_misclassified_labels, retrained_misclassified_labels,\n",
        "                          clean_misclassified_preds,adv_misclassified_preds, retrained_misclassified_preds, defense_type,randomization_defense)"
      ]
    },
    {
      "cell_type": "code",
      "source": [
        "#!pip install fpdf\n",
        "from google.colab import drive\n",
        "import os\n",
        "from contextlib import redirect_stdout\n",
        "from io import StringIO\n",
        "from fpdf import FPDF\n",
        "from datetime import datetime"
      ],
      "metadata": {
        "id": "3yiPxWtmuxdz"
      },
      "id": "3yiPxWtmuxdz",
      "execution_count": 99,
      "outputs": []
    },
    {
      "cell_type": "code",
      "source": [
        "def save_pdf_to_gdrive(defense_type, randomization_defense, input_transformation, compounded_attack_name, dataset_name):\n",
        "\n",
        "    # Mount Google Drive\n",
        "    drive.mount('/content/drive')\n",
        "\n",
        "    # Abbreviate the parameter names (first three letters)\n",
        "    rd = randomization_defense[:3]\n",
        "    it = input_transformation[:3]\n",
        "    dn = dataset_name[:3]\n",
        "\n",
        "    # Get the current date and time\n",
        "    now = datetime.now()\n",
        "    date_time = now.strftime(\"%Y%m%d_%H%M%S\")\n",
        "\n",
        "    # Set the file name\n",
        "    file_name = f\"{defense_type}_{compounded_attack_name}_{rd}_{it}_{dn}_{date_time}.pdf\"\n",
        "\n",
        "    # Set the save path in the 'results' folder\n",
        "    save_path = '/content/drive/My Drive/results/' + file_name\n",
        "\n",
        "    # Create the directory if it doesn't exist\n",
        "    os.makedirs(os.path.dirname(save_path), exist_ok=True)\n",
        "\n",
        "    # Generate PDF content\n",
        "    output_buffer = StringIO()\n",
        "    with redirect_stdout(output_buffer):\n",
        "        summarize_performance(test_loss, test_acc, clean_attack_test_loss, clean_attack_adv_test_accuracy,\n",
        "                              retrained_test_loss, retrained_accuracy, clean_misclassified_images,\n",
        "                              adv_misclassified_images, retrained_misclassified_images,\n",
        "                              clean_misclassified_labels, adv_misclassified_labels, retrained_misclassified_labels,\n",
        "                              clean_misclassified_preds, adv_misclassified_preds, retrained_misclassified_preds,\n",
        "                              defense_type, randomization_defense)\n",
        "    output = output_buffer.getvalue()\n",
        "\n",
        "    # Create a new PDF document\n",
        "    pdf = FPDF()\n",
        "    pdf.add_page()\n",
        "    pdf.set_font('Arial', size=12)\n",
        "    pdf.multi_cell(0, 5, txt=output)\n",
        "\n",
        "    # Save the PDF file\n",
        "    pdf.output(save_path, 'F')\n",
        "\n",
        "    print(f\"PDF file saved to: {save_path}\")\n",
        "    return save_path"
      ],
      "metadata": {
        "id": "OIH3SsYPxm2P"
      },
      "id": "OIH3SsYPxm2P",
      "execution_count": 100,
      "outputs": []
    },
    {
      "cell_type": "code",
      "source": [
        "pdf_path = save_pdf_to_gdrive(defense_type, randomization_defense, input_transformation, compounded_attack_name, dataset_name)\n",
        "print(pdf_path)"
      ],
      "metadata": {
        "colab": {
          "base_uri": "https://localhost:8080/",
          "height": 279
        },
        "id": "_32e-A60xwK6",
        "outputId": "159b518e-6638-46e4-808b-df9b6395e000"
      },
      "id": "_32e-A60xwK6",
      "execution_count": 101,
      "outputs": [
        {
          "output_type": "display_data",
          "data": {
            "text/plain": [
              "<Figure size 600x200 with 2 Axes>"
            ],
            "image/png": "[encoded data removed]"
          },
          "metadata": {}
        },
        {
          "output_type": "stream",
          "name": "stdout",
          "text": [
            "Drive already mounted at /content/drive; to attempt to forcibly remount, call drive.mount(\"/content/drive\", force_remount=True).\n",
            "PDF file saved to: /content/drive/My Drive/results/randomization_cw_pgd_attack_com_com_MNI_20240524_225424.pdf\n",
            "/content/drive/My Drive/results/randomization_cw_pgd_attack_com_com_MNI_20240524_225424.pdf\n"
          ]
        }
      ]
    }
  ],
  "metadata": {
    "accelerator": "GPU",
    "colab": {
      "gpuType": "L4",
      "provenance": [],
      "machine_shape": "hm",
      "include_colab_link": true
    },
    "kernelspec": {
      "display_name": "Python 3",
      "name": "python3"
    },
    "language_info": {
      "codemirror_mode": {
        "name": "ipython",
        "version": 3
      },
      "file_extension": ".py",
      "mimetype": "text/x-python",
      "name": "python",
      "nbconvert_exporter": "python",
      "pygments_lexer": "ipython3",
      "version": "3.11.7"
    }
  },
  "nbformat": 4,
  "nbformat_minor": 5
}